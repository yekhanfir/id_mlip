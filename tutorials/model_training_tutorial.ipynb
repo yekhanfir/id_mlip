{
 "cells": [
  {
   "cell_type": "markdown",
   "metadata": {
    "id": "LPVUemGzkZXt"
   },
   "source": [
    "# MLIP examples: Model Training"
   ]
  },
  {
   "cell_type": "markdown",
   "metadata": {
    "id": "WZbvC8Gq3qPz"
   },
   "source": [
    "In this notebook, we present general guidelines on **how to run trainings with the *mlip* library**. It is targeted to users with some knowledge of machine learning, though the library is designed to allow both beginners and advanced users to train and deploy MLIP models on targetted datasets.\n",
    "\n",
    "Note we keep this tutorial minimal but try to cover all important aspects that you'll need to build your own end-to-end MLIP pipelines! Additional tools we leave to the user's discretion include connection of loggers to visualisation tools (e.g. Weights & Biases), and cloud connections for checkpointing / saving models. \n",
    "\n",
    "**This notebook aims at showcasing:**\n",
    "\n",
    "- **How to prepare a dataset** for training, validation and testing\n",
    "- **How to set up a training loop** including initialing all the necessary tools and configs\n",
    "- **How to run a training** and save trained models and evaluate them on test sets\n",
    "- **How to load models** for later use (e.g in MD)\n",
    "- ***[Advanced topic]* How to create custom loggers** for bespoke applications\n",
    "- ***[Advanced topic]* How to load models from checkpoints** for restarting a training loop"
   ]
  },
  {
   "cell_type": "markdown",
   "metadata": {
    "id": "9bd0DkOGeScx"
   },
   "source": [
    "**Install, required imports, and logging setup**\n"
   ]
  },
  {
   "cell_type": "markdown",
   "metadata": {},
   "source": [
    "As a first step, we will run the installation of the *mlip* library directly from pip. We also install the appropriate Jax CUDA backend to run on GPU (comment it out to run on CPU). In this notebook, we will not run any simulation and therefore do not install Jax-MD, for details on how to do so, please refer to our *simulation* tutorial. Note that if you have ran another tutorial in the same environment, this installation is not required. Please refer to [our installation page](https://instadeepai.github.io/mlip/installation/index.html) for more information.\n"
   ]
  },
  {
   "cell_type": "code",
   "execution_count": null,
   "metadata": {
    "colab": {
     "base_uri": "https://localhost:8080/"
    },
    "id": "i7bAOYOrqxN8",
    "outputId": "52770221-2dd8-4a13-ab92-2fe27e4a6d07"
   },
   "outputs": [],
   "source": [
    "%pip install mlip \"jax[cuda12]==0.4.33\" huggingface_hub\n",
    "\n",
    "# Use this instead for installation without GPU:\n",
    "# %pip install mlip huggingface_hub"
   ]
  },
  {
   "cell_type": "markdown",
   "metadata": {
    "id": "_WYfFRCNkpLI"
   },
   "source": [
    "For convenience, and as users are expected to have already some knowledge of machine learning we run all the required imports for this tutorial upfront (with comments on where these will be used):"
   ]
  },
  {
   "cell_type": "code",
   "execution_count": null,
   "metadata": {
    "id": "7j0nxIefksNG"
   },
   "outputs": [],
   "source": [
    "# For dataset loading\n",
    "from mlip.data import GraphDatasetBuilder, ExtxyzReader\n",
    "\n",
    "# For model\n",
    "from mlip.models import Mace, Nequip, Visnet, ForceField\n",
    "\n",
    "# For optimizer\n",
    "from mlip.training import get_default_mlip_optimizer, OptimizerConfig\n",
    "\n",
    "# For loss function\n",
    "from mlip.models.loss import MSELoss\n",
    "\n",
    "# For training\n",
    "from mlip.training import TrainingLoop\n",
    "from mlip.models.model_io import save_model_to_zip, load_model_from_zip\n",
    "from mlip.models.params_loading import load_parameters_from_checkpoint\n",
    "\n",
    "# Other\n",
    "import logging\n",
    "import os\n",
    "import matplotlib.pyplot as plt"
   ]
  },
  {
   "cell_type": "markdown",
   "metadata": {
    "id": "sPjzp8mc7Dt4"
   },
   "source": [
    "We also set up logging for displaying information about the runs, and download to the content folder all the files required for this tutorial."
   ]
  },
  {
   "cell_type": "code",
   "execution_count": null,
   "metadata": {
    "id": "pcietA-I7HgV"
   },
   "outputs": [],
   "source": [
    "logging.basicConfig(level=logging.INFO, force=True, format='%(levelname)s - %(message)s')"
   ]
  },
  {
   "cell_type": "markdown",
   "metadata": {
    "id": "lwcX-1KcbCyH"
   },
   "source": [
    "One can also set a dedicated logging level for *mlip* specifically. Feel free to set this to `logging.DEBUG` for more verbose command line output."
   ]
  },
  {
   "cell_type": "code",
   "execution_count": null,
   "metadata": {
    "id": "C1VrtVwHbBpg"
   },
   "outputs": [],
   "source": [
    "logging.getLogger(\"mlip\").setLevel(logging.INFO)"
   ]
  },
  {
   "cell_type": "markdown",
   "metadata": {
    "id": "Ru3fIT7Tq24A"
   },
   "source": [
    "Let's also check what device we are using:"
   ]
  },
  {
   "cell_type": "code",
   "execution_count": null,
   "metadata": {
    "colab": {
     "base_uri": "https://localhost:8080/"
    },
    "id": "i7bAOYOrqxN8",
    "outputId": "52770221-2dd8-4a13-ab92-2fe27e4a6d07"
   },
   "outputs": [],
   "source": [
    "import jax\n",
    "\n",
    "print(jax.devices())"
   ]
  },
  {
   "cell_type": "markdown",
   "metadata": {
    "id": "cksPWIwMkt-G"
   },
   "source": [
    "## 1. Preparing a dataset"
   ]
  },
  {
   "cell_type": "markdown",
   "metadata": {
    "id": "OkHNCGbVwyCK"
   },
   "source": [
    "For this example, we train on configurations of the aspirin molecule only. The dataset is a subset of the [Revised MD17 dataset](https://figshare.com/articles/dataset/Revised_MD17_dataset_rMD17_/12672038). The training set will be downloaded at \"training/rmd17_aspirin_train.xyz\" and the validation set will be download at \"training/rmd17_aspirin_val.xyz\". All data is transfered from InstaDeep's [HuggingFace collection](https://huggingface.co/collections/InstaDeepAI/ml-interatomic-potentials-68134208c01a954ede6dae42). "
   ]
  },
  {
   "cell_type": "code",
   "execution_count": null,
   "metadata": {},
   "outputs": [],
   "source": [
    "from huggingface_hub import snapshot_download\n",
    "\n",
    "snapshot_download(repo_id=\"InstaDeepAI/MLIP-tutorials\", allow_patterns=\"training/*\", local_dir=\"\")"
   ]
  },
  {
   "cell_type": "markdown",
   "metadata": {},
   "source": [
    "The data processing **is a two step process**:\n",
    "\n",
    "1. **We read the data from disk into [`ChemicalSystem`](https://instadeepai.github.io/mlip/api_reference/data/chemical_system.html) objects**. This is done by a \"reader\", and since the dataset is stored in extended xyz formatit can be read with the [`ExtxyzReader`](https://instadeepai.github.io/mlip/api_reference/data/chemical_systems_readers/extxyz_reader.html). The *mlip* library also includes a HDF5 format reader: [`Hdf5Reader`](https://instadeepai.github.io/mlip/api_reference/data/chemical_systems_readers/hdf5_reader.html). We expect that users may want to implement their own readers in the future to deal with custom data formats.\n"
   ]
  },
  {
   "cell_type": "code",
   "execution_count": null,
   "metadata": {
    "id": "MxbTwW74kwrN"
   },
   "outputs": [],
   "source": [
    "reader = ExtxyzReader(\n",
    "    ExtxyzReader.Config(\n",
    "        train_dataset_paths=\"training/rmd17_aspirin_train.xyz\",\n",
    "        valid_dataset_paths=\"training/rmd17_aspirin_val.xyz\",\n",
    "        test_dataset_paths=\"training/rmd17_aspirin_test.xyz\",\n",
    "    )\n",
    ")"
   ]
  },
  {
   "cell_type": "markdown",
   "metadata": {
    "id": "PkLW_jW2xS1t"
   },
   "source": [
    "2. **We process these [`ChemicalSystem`](https://instadeepai.github.io/mlip/api_reference/data/chemical_system.html) objects into graphs.** This process uses the class [`GraphDatasetBuilder`](https://instadeepai.github.io/mlip/api_reference/data/graph_dataset_builder.html) which offers some degree of customisation through its [config class](https://instadeepai.github.io/mlip/api_reference/data/dataset_configs.html#mlip.data.configs.GraphDatasetBuilderConfig). \n",
    "\n"
   ]
  },
  {
   "cell_type": "code",
   "execution_count": null,
   "metadata": {
    "colab": {
     "base_uri": "https://localhost:8080/",
     "height": 371,
     "referenced_widgets": [
      "3896f6ece629419381ef0a3f1dcbdba1",
      "233cea7a00b84a53a83002ae49b09f20",
      "816a3b07403e473b919c073955bbdeef",
      "06c8c761fc644e42bbb60099bd94a87c",
      "a0d3fb6835c641259310270b83b78f68",
      "a149d27ba0f145e59c28a208a8bfca57",
      "5957301ba7cd494faf30d3422d946e29",
      "efe37963793f40238660bd927eda4b90",
      "d6ac7ea5a9be4465aa655a1a67f4457a",
      "7c63433430964baca7e2a4aaff6f0aea",
      "710425f3a6ec41ecb7481fd1e4af4999",
      "c624b373c4a941518574480ae6c7623e",
      "3315911e6ef248eb80e24e9c30bfc853",
      "e61e137df1e14cdf815b3ab2a30224ab",
      "6c01dd8e7a59473ba3c2574b221eeeac",
      "959dc1bcbb764431af085fbc97781abb",
      "69b2198fd2b742229206e6a097cd1883",
      "b54de2a048414211b1d4c3f9f5b47e06",
      "9fc0f86d42eb495084936c109330ca11",
      "33c71b1a985a48ed99b5765072dbe458",
      "04d49e59a6754e319b0df1a9de7a8020",
      "1021072bf0524e6ebb8dea529b327a7f",
      "8e80597d80034355b6da9b0e036126dd",
      "d749464549bf4eeebd4b9f7278e01692",
      "da361060014545f6b781e20d85ad4b10",
      "438b24ea41eb41b8acb92fdd7de0a81c",
      "e1b03c61f2d64e569a23f70ef0dc7a88",
      "a00dfb2718074bcaaeb46b8a0b54a270",
      "a9a8b117e2e54667b26d1e9f4ce960b2",
      "5a8a3953b9664b0a9fa84e752c139f42",
      "03c4d6372e5444a98f023e77b3776607",
      "c7f095045396431d9af3ddcf326a8f18",
      "a64b1c53889545099331e9e8d6cfd539",
      "149064a6f834491f96054f773d275d87",
      "9911ee62e3df404eaa4e3406daa2291f",
      "584babfae66e4259bcf82231746a0608",
      "628e234d4e7349ebb57d3440e9e7a674",
      "421f9d15b75443819a6a3e9febfc8545",
      "80a5c84a53c8484e85b13d72a527060f",
      "70b638dc958b434ea15437e02afc7869",
      "4d1f0e6ac20149048ee405d25e6093b7",
      "699ff25798eb46fe99c58861ea3bfa03",
      "9b8e8d5495e845cf9995fe1e48cec58a",
      "2a1b56db10044126a168e7382eeddd4f"
     ]
    },
    "id": "tXjGxXwul4kT",
    "outputId": "77691914-666d-411f-cc0d-095c10d1a840"
   },
   "outputs": [],
   "source": [
    "builder_config = GraphDatasetBuilder.Config(\n",
    "    graph_cutoff_angstrom=5.0,\n",
    "    batch_size=16,\n",
    ")\n",
    "\n",
    "builder = GraphDatasetBuilder(reader, builder_config)\n",
    "builder.prepare_datasets() # This step is required to compute all dataset information (used later on by most MLIP model)\n",
    "\n",
    "train_set, validation_set, test_set = builder.get_splits()"
   ]
  },
  {
   "cell_type": "markdown",
   "metadata": {
    "id": "DHq_F75zxb-D"
   },
   "source": [
    "More information can be found in the [deep-dive on data processing](https://instadeepai.github.io/mlip/user_guide/data_processing.html)  in our documentation for more details.\n",
    "\n",
    "We can now **print some statistics about our dataset** along with the [`DatasetInfo`](https://instadeepai.github.io/mlip/api_reference/data/dataset_info.html) object that will be required for downstream tasks. The **dataset info** holds all the hyperparameters of the models that are directly derived from the dataset or its processing, e.g., the cutoff distance to determine the graph edges."
   ]
  },
  {
   "cell_type": "code",
   "execution_count": null,
   "metadata": {
    "id": "d6cER4-oroyQ"
   },
   "outputs": [],
   "source": [
    "print(\"Dataset info:\", builder.dataset_info)\n",
    "print(\"Number of batches in train set:\", len(train_set))\n",
    "print(\"Number of batches in validation set:\", len(validation_set))\n",
    "print(\"Number of batches in test set:\", len(test_set))"
   ]
  },
  {
   "cell_type": "markdown",
   "metadata": {
    "id": "Ts8Pv7Aqo0wp"
   },
   "source": [
    "## 2. Preparing a training loop"
   ]
  },
  {
   "cell_type": "markdown",
   "metadata": {
    "id": "I5_9_VPfxmIr"
   },
   "source": [
    "To start training, we first need to prepare some prerequisites. These are, as for all ML models: \n",
    "- A **model architecture**,\n",
    "- An **optimizer**, and\n",
    "- A **loss function**\n",
    "\n",
    "We start with the **model architecture**: \n",
    "\n",
    "For this tutorial, we provide the initialization code for MACE, NequIP and ViSnet, but commented out two of them. For all the hyperparameters available, see the documentations of the [MACE config](https://instadeepai.github.io/mlip/api_reference/models/mace.html#mlip.models.mace.config.MaceConfig), the [NequIP config](https://instadeepai.github.io/mlip/api_reference/models/nequip.html#mlip.models.nequip.config.NequipConfig), and the [ViSNet config](https://instadeepai.github.io/mlip/api_reference/models/visnet.html#mlip.models.visnet.config.VisnetConfig).\n",
    "\n",
    "The model creation process includes two steps, (1) the creation of the MLIP network and (2) of the force field. See our [deep-dive on models](https://instadeepai.github.io/mlip/user_guide/models.html) for a detailed explanation of this pattern. The force field will be the essential object required for the training below, as well as for running MD simulations."
   ]
  },
  {
   "cell_type": "code",
   "execution_count": null,
   "metadata": {
    "id": "Q4VU3zb6o1_9"
   },
   "outputs": [],
   "source": [
    "# We override some of the default hyperparameters \n",
    "# of the model to make it smaller such that this training example becomes more minimal\n",
    "mlip_network = Mace(\n",
    "    Mace.Config(num_channels=16, correlation=2),\n",
    "    builder.dataset_info,\n",
    ")\n",
    "\n",
    "# mlip_network = Nequip(\n",
    "#     Nequip.Config(\n",
    "#         node_irreps=\"4x0e + 4x0o + 4x1o + 4x1e + 4x2e + 4x2o\",\n",
    "#         num_layers=2,\n",
    "#     ),\n",
    "#     builder.dataset_info,\n",
    "# )\n",
    "\n",
    "# mlip_network = Visnet(\n",
    "#     Visnet.Config(num_channels=16, num_layers=2),\n",
    "#     builder.dataset_info,\n",
    "# )\n",
    "\n",
    "force_field = ForceField.from_mlip_network(mlip_network)"
   ]
  },
  {
   "cell_type": "markdown",
   "metadata": {
    "id": "zj6OHwN3x3uu"
   },
   "source": [
    "Next, we **create an optimizer**: \n",
    "\n",
    "The *mlip* library is set up so that you can use any [`optax`](https://github.com/google-deepmind/optax) optimizer you like, e.g., [`optax.adam`](https://optax.readthedocs.io/en/latest/api/optimizers.html#optax.adam). We nonetheless provided a default optimizer specialized for MLIP models (see [this](https://instadeepai.github.io/mlip/api_reference/training/optimizer.html#mlip.training.optimizer.get_default_mlip_optimizer) part of the documentation for more details)."
   ]
  },
  {
   "cell_type": "code",
   "execution_count": null,
   "metadata": {
    "id": "_PRdkIPopJc4"
   },
   "outputs": [],
   "source": [
    "optimizer = get_default_mlip_optimizer()"
   ]
  },
  {
   "cell_type": "markdown",
   "metadata": {
    "id": "47NWAw7uyL3D"
   },
   "source": [
    "For the **loss**:\n",
    "\n",
    "We use a Mean-Squared-Error (MSE) loss, that by default uses a weighting factor of 25.0 for MSE of forces, 1.0 for MSE of energies, and zero for MSE of stress (which is not available in this dataset). See [this](https://instadeepai.github.io/mlip/user_guide/training.html#loss) part of the documentation for more information on further options such as alternative loss functions and how to create a weight flip schedule between energy and forces. "
   ]
  },
  {
   "cell_type": "code",
   "execution_count": null,
   "metadata": {
    "id": "Cj4d_ZoopJa6"
   },
   "outputs": [],
   "source": [
    "loss = MSELoss()"
   ]
  },
  {
   "cell_type": "markdown",
   "metadata": {
    "id": "3zjiQX3d3EsK"
   },
   "source": [
    "Finally, we can **create our training loop**:\n",
    "\n",
    "At a minimum, it needs as input:\n",
    "- a training dataset\n",
    "- a validation dataset\n",
    "- a force field\n",
    "- a loss\n",
    "- an optimizer\n",
    "- a config (which specifies for instace the number of epochs)\n",
    "\n",
    "Note that the config is documented [here](https://instadeepai.github.io/mlip/api_reference/training/training_loop_config.html). Its only argument that lacks a default value is the number of epochs to train for."
   ]
  },
  {
   "cell_type": "code",
   "execution_count": null,
   "metadata": {
    "id": "nyNXJW6SurAD",
    "scrolled": true
   },
   "outputs": [],
   "source": [
    "training_config = TrainingLoop.Config(num_epochs=10)\n",
    "\n",
    "training_loop = TrainingLoop(\n",
    "    train_dataset=train_set,\n",
    "    validation_dataset=validation_set,\n",
    "    force_field=force_field,\n",
    "    loss=loss,\n",
    "    optimizer=optimizer,\n",
    "    config=training_config,\n",
    ")"
   ]
  },
  {
   "cell_type": "markdown",
   "metadata": {
    "id": "ecbtfdFa8iJc"
   },
   "source": [
    "## 3. Running a training loop"
   ]
  },
  {
   "cell_type": "markdown",
   "metadata": {
    "id": "wTre9bQD3IbJ"
   },
   "source": [
    "**Running the loop**:\n",
    "\n",
    "The following box runs the prepared training loop. Note that training will be a **lot more efficient for GPU users** (depending on the GPU, one should expect ~1s to ~12s per epoch, once the code is compiled) - for CPU users our measures ranged from ~12s to ~100s per epoch."
   ]
  },
  {
   "cell_type": "code",
   "execution_count": null,
   "metadata": {
    "colab": {
     "background_save": true
    },
    "id": "Eef9QrDPvJs7",
    "outputId": "bee57afc-e909-4826-a112-7e4692bf97ba"
   },
   "outputs": [],
   "source": [
    "training_loop.run()"
   ]
  },
  {
   "cell_type": "markdown",
   "metadata": {
    "id": "3vgzmqOM2g9I"
   },
   "source": [
    "In order to **evaluate on test set**, user can simply run the following line:"
   ]
  },
  {
   "cell_type": "code",
   "execution_count": null,
   "metadata": {
    "colab": {
     "background_save": true
    },
    "id": "kGZyFRM82jwq",
    "outputId": "ea3f99e8-2baf-495f-96f2-b0da90e863f1"
   },
   "outputs": [],
   "source": [
    "training_loop.test(test_set)"
   ]
  },
  {
   "cell_type": "markdown",
   "metadata": {
    "id": "oDP5HIHaE62q"
   },
   "source": [
    "This test function is documented [here](https://instadeepai.github.io/mlip/api_reference/training/training_loop.html#mlip.training.training_loop.TrainingLoop.test)."
   ]
  },
  {
   "cell_type": "markdown",
   "metadata": {
    "id": "gVMR2zpXzLKI"
   },
   "source": [
    "**Recovering the best validation model**:\n",
    "\n",
    "After training has completed, the [`TrainingLoop`](https://instadeepai.github.io/mlip/api_reference/training/training_loop.html) holds all the relevant information about the run. We can obtain the force field with the best validation parameters as follows:"
   ]
  },
  {
   "cell_type": "code",
   "execution_count": null,
   "metadata": {
    "colab": {
     "background_save": true
    },
    "id": "jp7SpzNvzKUH"
   },
   "outputs": [],
   "source": [
    "optimized_force_field = training_loop.best_model"
   ]
  },
  {
   "cell_type": "markdown",
   "metadata": {},
   "source": [
    "This force field object can now be applied in, for example, MD simulations or energy minimizations. \n",
    "\n",
    "**Saving the model to a zip file**:\n",
    "\n",
    "We can also save the trained model in zip format. This is also the format that we provide our pre-trained models in."
   ]
  },
  {
   "cell_type": "code",
   "execution_count": null,
   "metadata": {
    "colab": {
     "background_save": true
    },
    "id": "yht2tmedzsN6"
   },
   "outputs": [],
   "source": [
    "save_model_to_zip(\"training/final_model.zip\", optimized_force_field)"
   ]
  },
  {
   "cell_type": "markdown",
   "metadata": {
    "id": "ArI7U5d20xmp"
   },
   "source": [
    "## 4. Loading a pre-trained model"
   ]
  },
  {
   "cell_type": "markdown",
   "metadata": {
    "id": "FGxY08sP08NK"
   },
   "source": [
    "We can load a previously trained model via the zip format and, for instance, print the dataset info stored within it:"
   ]
  },
  {
   "cell_type": "code",
   "execution_count": null,
   "metadata": {
    "colab": {
     "background_save": true
    },
    "id": "iGq6HGgv0zPz",
    "outputId": "9665cf6a-1302-40fe-d0a6-f0a3b17d472b"
   },
   "outputs": [],
   "source": [
    "loaded_force_field = load_model_from_zip(Mace, \"training/final_model.zip\")\n",
    "\n",
    "print(\"Dataset info:\", loaded_force_field.dataset_info)"
   ]
  },
  {
   "cell_type": "markdown",
   "metadata": {
    "id": "2nj3PNoqzHfB"
   },
   "source": [
    "See [this](https://instadeepai.github.io/mlip/api_reference/models/force_field.html) part of the documentation for more details on the `ForceField` class."
   ]
  },
  {
   "cell_type": "markdown",
   "metadata": {
    "id": "0LCh6j4nuV5-"
   },
   "source": [
    "## 5. Advanced topics: Custom logging and Checkpointing"
   ]
  },
  {
   "cell_type": "markdown",
   "metadata": {
    "id": "ja-dJxqCCCp5"
   },
   "source": [
    "For more **advanced logging and checkpointing**, we import a few more objects from the library:"
   ]
  },
  {
   "cell_type": "code",
   "execution_count": null,
   "metadata": {
    "colab": {
     "background_save": true
    },
    "id": "dehY1qanB9jC"
   },
   "outputs": [],
   "source": [
    "from mlip.training import TrainingIOHandler, log_metrics_to_line\n",
    "from mlip.training.training_io_handler import LogCategory"
   ]
  },
  {
   "cell_type": "markdown",
   "metadata": {
    "id": "bjDEVuAYucK_"
   },
   "source": [
    "We can now set up a **custom I/O handler** with checkpointing for training:\n",
    "\n",
    "The I/O handler class is documented [here](https://instadeepai.github.io/mlip/api_reference/training/training_io_handling.html). Also check out [this](https://instadeepai.github.io/mlip/user_guide/training.html#io-handling-and-logging) part in our deep-dive on logging for more information. The code below adds a local directory for checkpointing to the I/O handler, which activates checkpointing during training."
   ]
  },
  {
   "cell_type": "code",
   "execution_count": null,
   "metadata": {
    "colab": {
     "background_save": true
    },
    "id": "YUYhV-w4CXDj",
    "outputId": "ca3d1fcf-4dfb-494c-ad0a-5afedd3e3def"
   },
   "outputs": [],
   "source": [
    "io_handler = TrainingIOHandler(\n",
    "    TrainingIOHandler.Config(\n",
    "        local_model_output_dir=\"training/model_training\"\n",
    "    )\n",
    ")"
   ]
  },
  {
   "cell_type": "markdown",
   "metadata": {
    "id": "AKfx2OmnCYbe"
   },
   "source": [
    "Next, we can **attach logging functions to the I/O handler**: \n",
    "\n",
    "Users can attached as many logging functions as required to the I/O handler. In this example, we attach two. \n",
    "1. The [`log_metrics_to_line`](https://instadeepai.github.io/mlip/api_reference/training/training_io_handling.html#mlip.training.training_loggers.log_metrics_to_line) function that is also included in the default I/O handler that we used in the previous example.\n",
    "2. A custom function that just keeps track of the validation set losses, so we can later easily create a curve from it."
   ]
  },
  {
   "cell_type": "code",
   "execution_count": null,
   "metadata": {
    "colab": {
     "background_save": true
    },
    "id": "GR8r4N9KCY3D"
   },
   "outputs": [],
   "source": [
    "# The following logger is also attached in the default I/O handler\n",
    "# that was used in the training above\n",
    "io_handler.attach_logger(log_metrics_to_line)\n",
    "\n",
    "# Define a custom logging function that keeps track of validation loss\n",
    "validation_losses = []\n",
    "def _custom_logger(category, to_log, epoch_number):\n",
    "  if category == LogCategory.EVAL_METRICS:\n",
    "    validation_losses.append(to_log[\"loss\"])\n",
    "\n",
    "# Attach our custom logging function to the I/O handler\n",
    "io_handler.attach_logger(_custom_logger)"
   ]
  },
  {
   "cell_type": "markdown",
   "metadata": {
    "id": "n7r3hb-5DQkc"
   },
   "source": [
    "The custom logging function is called several times during the training loop with the argument `category` (e.g. `TRAIN_METRICS`, `EVAL_METRICS`) telling the function what is currently being logged, for example, train or evaluation metrics. It is of enum type [`LogCategory`](https://instadeepai.github.io/mlip/api_reference/training/training_io_handling.html#mlip.training.training_io_handler.LogCategory). See the documentation of the built-in function [`log_metrics_to_line`](https://instadeepai.github.io/mlip/api_reference/training/training_io_handling.html#mlip.training.training_loggers.log_metrics_to_line) for what we expect the logging function's signature to be.\n",
    "\n",
    "To illustrate this use of custom logging, we **start a new training run**. It will use the original force field object we created, hence, it will again start with random parameters:"
   ]
  },
  {
   "cell_type": "code",
   "execution_count": null,
   "metadata": {
    "colab": {
     "background_save": true
    },
    "id": "Mpywq54RuVOu",
    "outputId": "4049e76f-0aca-4d8f-bbf0-f73f25da5275"
   },
   "outputs": [],
   "source": [
    "# Only run 5 epochs for this example\n",
    "training_config.num_epochs = 5\n",
    "\n",
    "training_loop = TrainingLoop(\n",
    "    train_dataset=train_set,\n",
    "    validation_dataset=validation_set,\n",
    "    force_field=force_field,\n",
    "    loss=loss,\n",
    "    optimizer=optimizer,\n",
    "    config=training_config,\n",
    "    io_handler=io_handler,\n",
    ")\n",
    "\n",
    "training_loop.run()"
   ]
  },
  {
   "cell_type": "markdown",
   "metadata": {
    "id": "CkMlShtjDfTj"
   },
   "source": [
    "We can now **access the information stored** by the custom logger saved into our validation loss list:"
   ]
  },
  {
   "cell_type": "code",
   "execution_count": null,
   "metadata": {
    "colab": {
     "background_save": true
    },
    "id": "T7b2Xk21Djjk",
    "outputId": "2da281a7-7984-4753-c7f7-196f30ade3b0"
   },
   "outputs": [],
   "source": [
    "print(validation_losses)"
   ]
  },
  {
   "cell_type": "markdown",
   "metadata": {
    "id": "2M-z0W6nEitM"
   },
   "source": [
    "Let's create a training curve from these values."
   ]
  },
  {
   "cell_type": "code",
   "execution_count": null,
   "metadata": {
    "colab": {
     "background_save": true
    },
    "id": "JR5bzuJyEl8O",
    "outputId": "17b72e34-b16b-4cb1-a2fb-625289407b56"
   },
   "outputs": [],
   "source": [
    "epoch_nums = list(range(len(validation_losses)))\n",
    "plt.plot(epoch_nums, validation_losses)\n",
    "plt.xlabel(\"Epoch\")\n",
    "plt.ylabel(\"Validation loss\")\n",
    "plt.xticks(epoch_nums)\n",
    "plt.show()"
   ]
  },
  {
   "cell_type": "markdown",
   "metadata": {
    "id": "bsDek3N81iHU"
   },
   "source": [
    "Finally, as mentioned earlier, **creating the custom I/O handler triggered checkpointing**. We can now load a force field from a given model checkpoint, for example, the most recently saved model:"
   ]
  },
  {
   "cell_type": "code",
   "execution_count": null,
   "metadata": {
    "colab": {
     "background_save": true
    },
    "id": "1Z6fkUr01h0M",
    "outputId": "a4464ab4-99e7-4b60-a3a8-68e3f077695c"
   },
   "outputs": [],
   "source": [
    "from pathlib import Path\n",
    "\n",
    "# Find out what is the most recent epoch that was saved\n",
    "checkpoints = os.listdir(\"training/model_training/model\")\n",
    "max_epoch_num = max(int(num) for num in checkpoints)\n",
    "\n",
    "# Load the parameters from the checkpoint\n",
    "loaded_params_via_ckpt = load_parameters_from_checkpoint(\n",
    "    local_checkpoint_dir=Path(\"training/model_training/model\").resolve(),\n",
    "    initial_params=force_field.params,\n",
    "    epoch_to_load=max_epoch_num,\n",
    "    load_ema_params=False,\n",
    ")\n",
    "\n",
    "# Create a new force field with those parameters\n",
    "loaded_force_field = ForceField(force_field.predictor, loaded_params_via_ckpt)"
   ]
  },
  {
   "cell_type": "markdown",
   "metadata": {
    "id": "dpslpHjC2r0Z"
   },
   "source": [
    "See our other example notebooks for how to use loaded models in downstream tasks like batched inference or simulations (MD or energy minimizations).\n",
    "\n",
    "Furthermore, these checkpoints can of course also be **used to restart a training from a given checkpoint**. We refer to the [documentation of the I/O handler's config](https://instadeepai.github.io/mlip/api_reference/training/training_io_handling.html#mlip.training.training_io_handler.TrainingIOHandlerConfig) for more information on this."
   ]
  }
 ],
 "metadata": {
  "colab": {
   "provenance": []
  },
  "kernelspec": {
   "display_name": "Python 3 (ipykernel)",
   "language": "python",
   "name": "python3"
  },
  "language_info": {
   "codemirror_mode": {
    "name": "ipython",
    "version": 3
   },
   "file_extension": ".py",
   "mimetype": "text/x-python",
   "name": "python",
   "nbconvert_exporter": "python",
   "pygments_lexer": "ipython3",
   "version": "3.10.15"
  },
  "widgets": {
   "application/vnd.jupyter.widget-state+json": {
    "03c4d6372e5444a98f023e77b3776607": {
     "model_module": "@jupyter-widgets/controls",
     "model_module_version": "1.5.0",
     "model_name": "ProgressStyleModel",
     "state": {
      "_model_module": "@jupyter-widgets/controls",
      "_model_module_version": "1.5.0",
      "_model_name": "ProgressStyleModel",
      "_view_count": null,
      "_view_module": "@jupyter-widgets/base",
      "_view_module_version": "1.2.0",
      "_view_name": "StyleView",
      "bar_color": null,
      "description_width": ""
     }
    },
    "04d49e59a6754e319b0df1a9de7a8020": {
     "model_module": "@jupyter-widgets/base",
     "model_module_version": "1.2.0",
     "model_name": "LayoutModel",
     "state": {
      "_model_module": "@jupyter-widgets/base",
      "_model_module_version": "1.2.0",
      "_model_name": "LayoutModel",
      "_view_count": null,
      "_view_module": "@jupyter-widgets/base",
      "_view_module_version": "1.2.0",
      "_view_name": "LayoutView",
      "align_content": null,
      "align_items": null,
      "align_self": null,
      "border": null,
      "bottom": null,
      "display": null,
      "flex": null,
      "flex_flow": null,
      "grid_area": null,
      "grid_auto_columns": null,
      "grid_auto_flow": null,
      "grid_auto_rows": null,
      "grid_column": null,
      "grid_gap": null,
      "grid_row": null,
      "grid_template_areas": null,
      "grid_template_columns": null,
      "grid_template_rows": null,
      "height": null,
      "justify_content": null,
      "justify_items": null,
      "left": null,
      "margin": null,
      "max_height": null,
      "max_width": null,
      "min_height": null,
      "min_width": null,
      "object_fit": null,
      "object_position": null,
      "order": null,
      "overflow": null,
      "overflow_x": null,
      "overflow_y": null,
      "padding": null,
      "right": null,
      "top": null,
      "visibility": null,
      "width": null
     }
    },
    "06c8c761fc644e42bbb60099bd94a87c": {
     "model_module": "@jupyter-widgets/controls",
     "model_module_version": "1.5.0",
     "model_name": "HTMLModel",
     "state": {
      "_dom_classes": [],
      "_model_module": "@jupyter-widgets/controls",
      "_model_module_version": "1.5.0",
      "_model_name": "HTMLModel",
      "_view_count": null,
      "_view_module": "@jupyter-widgets/controls",
      "_view_module_version": "1.5.0",
      "_view_name": "HTMLView",
      "description": "",
      "description_tooltip": null,
      "layout": "IPY_MODEL_7c63433430964baca7e2a4aaff6f0aea",
      "placeholder": "​",
      "style": "IPY_MODEL_710425f3a6ec41ecb7481fd1e4af4999",
      "value": " 1200/1200 [00:01&lt;00:00, 842.45it/s]"
     }
    },
    "1021072bf0524e6ebb8dea529b327a7f": {
     "model_module": "@jupyter-widgets/controls",
     "model_module_version": "1.5.0",
     "model_name": "DescriptionStyleModel",
     "state": {
      "_model_module": "@jupyter-widgets/controls",
      "_model_module_version": "1.5.0",
      "_model_name": "DescriptionStyleModel",
      "_view_count": null,
      "_view_module": "@jupyter-widgets/base",
      "_view_module_version": "1.2.0",
      "_view_name": "StyleView",
      "description_width": ""
     }
    },
    "149064a6f834491f96054f773d275d87": {
     "model_module": "@jupyter-widgets/controls",
     "model_module_version": "1.5.0",
     "model_name": "HBoxModel",
     "state": {
      "_dom_classes": [],
      "_model_module": "@jupyter-widgets/controls",
      "_model_module_version": "1.5.0",
      "_model_name": "HBoxModel",
      "_view_count": null,
      "_view_module": "@jupyter-widgets/controls",
      "_view_module_version": "1.5.0",
      "_view_name": "HBoxView",
      "box_style": "",
      "children": [
       "IPY_MODEL_9911ee62e3df404eaa4e3406daa2291f",
       "IPY_MODEL_584babfae66e4259bcf82231746a0608",
       "IPY_MODEL_628e234d4e7349ebb57d3440e9e7a674"
      ],
      "layout": "IPY_MODEL_421f9d15b75443819a6a3e9febfc8545"
     }
    },
    "233cea7a00b84a53a83002ae49b09f20": {
     "model_module": "@jupyter-widgets/controls",
     "model_module_version": "1.5.0",
     "model_name": "HTMLModel",
     "state": {
      "_dom_classes": [],
      "_model_module": "@jupyter-widgets/controls",
      "_model_module_version": "1.5.0",
      "_model_name": "HTMLModel",
      "_view_count": null,
      "_view_module": "@jupyter-widgets/controls",
      "_view_module_version": "1.5.0",
      "_view_name": "HTMLView",
      "description": "",
      "description_tooltip": null,
      "layout": "IPY_MODEL_a149d27ba0f145e59c28a208a8bfca57",
      "placeholder": "​",
      "style": "IPY_MODEL_5957301ba7cd494faf30d3422d946e29",
      "value": "Graph creation: 100%"
     }
    },
    "2a1b56db10044126a168e7382eeddd4f": {
     "model_module": "@jupyter-widgets/controls",
     "model_module_version": "1.5.0",
     "model_name": "DescriptionStyleModel",
     "state": {
      "_model_module": "@jupyter-widgets/controls",
      "_model_module_version": "1.5.0",
      "_model_name": "DescriptionStyleModel",
      "_view_count": null,
      "_view_module": "@jupyter-widgets/base",
      "_view_module_version": "1.2.0",
      "_view_name": "StyleView",
      "description_width": ""
     }
    },
    "3315911e6ef248eb80e24e9c30bfc853": {
     "model_module": "@jupyter-widgets/controls",
     "model_module_version": "1.5.0",
     "model_name": "HTMLModel",
     "state": {
      "_dom_classes": [],
      "_model_module": "@jupyter-widgets/controls",
      "_model_module_version": "1.5.0",
      "_model_name": "HTMLModel",
      "_view_count": null,
      "_view_module": "@jupyter-widgets/controls",
      "_view_module_version": "1.5.0",
      "_view_name": "HTMLView",
      "description": "",
      "description_tooltip": null,
      "layout": "IPY_MODEL_69b2198fd2b742229206e6a097cd1883",
      "placeholder": "​",
      "style": "IPY_MODEL_b54de2a048414211b1d4c3f9f5b47e06",
      "value": "valid graph creation: 100%"
     }
    },
    "33c71b1a985a48ed99b5765072dbe458": {
     "model_module": "@jupyter-widgets/controls",
     "model_module_version": "1.5.0",
     "model_name": "ProgressStyleModel",
     "state": {
      "_model_module": "@jupyter-widgets/controls",
      "_model_module_version": "1.5.0",
      "_model_name": "ProgressStyleModel",
      "_view_count": null,
      "_view_module": "@jupyter-widgets/base",
      "_view_module_version": "1.2.0",
      "_view_name": "StyleView",
      "bar_color": null,
      "description_width": ""
     }
    },
    "3896f6ece629419381ef0a3f1dcbdba1": {
     "model_module": "@jupyter-widgets/controls",
     "model_module_version": "1.5.0",
     "model_name": "HBoxModel",
     "state": {
      "_dom_classes": [],
      "_model_module": "@jupyter-widgets/controls",
      "_model_module_version": "1.5.0",
      "_model_name": "HBoxModel",
      "_view_count": null,
      "_view_module": "@jupyter-widgets/controls",
      "_view_module_version": "1.5.0",
      "_view_name": "HBoxView",
      "box_style": "",
      "children": [
       "IPY_MODEL_233cea7a00b84a53a83002ae49b09f20",
       "IPY_MODEL_816a3b07403e473b919c073955bbdeef",
       "IPY_MODEL_06c8c761fc644e42bbb60099bd94a87c"
      ],
      "layout": "IPY_MODEL_a0d3fb6835c641259310270b83b78f68"
     }
    },
    "421f9d15b75443819a6a3e9febfc8545": {
     "model_module": "@jupyter-widgets/base",
     "model_module_version": "1.2.0",
     "model_name": "LayoutModel",
     "state": {
      "_model_module": "@jupyter-widgets/base",
      "_model_module_version": "1.2.0",
      "_model_name": "LayoutModel",
      "_view_count": null,
      "_view_module": "@jupyter-widgets/base",
      "_view_module_version": "1.2.0",
      "_view_name": "LayoutView",
      "align_content": null,
      "align_items": null,
      "align_self": null,
      "border": null,
      "bottom": null,
      "display": null,
      "flex": null,
      "flex_flow": null,
      "grid_area": null,
      "grid_auto_columns": null,
      "grid_auto_flow": null,
      "grid_auto_rows": null,
      "grid_column": null,
      "grid_gap": null,
      "grid_row": null,
      "grid_template_areas": null,
      "grid_template_columns": null,
      "grid_template_rows": null,
      "height": null,
      "justify_content": null,
      "justify_items": null,
      "left": null,
      "margin": null,
      "max_height": null,
      "max_width": null,
      "min_height": null,
      "min_width": null,
      "object_fit": null,
      "object_position": null,
      "order": null,
      "overflow": null,
      "overflow_x": null,
      "overflow_y": null,
      "padding": null,
      "right": null,
      "top": null,
      "visibility": null,
      "width": null
     }
    },
    "438b24ea41eb41b8acb92fdd7de0a81c": {
     "model_module": "@jupyter-widgets/controls",
     "model_module_version": "1.5.0",
     "model_name": "HTMLModel",
     "state": {
      "_dom_classes": [],
      "_model_module": "@jupyter-widgets/controls",
      "_model_module_version": "1.5.0",
      "_model_name": "HTMLModel",
      "_view_count": null,
      "_view_module": "@jupyter-widgets/controls",
      "_view_module_version": "1.5.0",
      "_view_name": "HTMLView",
      "description": "",
      "description_tooltip": null,
      "layout": "IPY_MODEL_c7f095045396431d9af3ddcf326a8f18",
      "placeholder": "​",
      "style": "IPY_MODEL_a64b1c53889545099331e9e8d6cfd539",
      "value": " 900/900 [00:01&lt;00:00, 574.78it/s]"
     }
    },
    "4d1f0e6ac20149048ee405d25e6093b7": {
     "model_module": "@jupyter-widgets/base",
     "model_module_version": "1.2.0",
     "model_name": "LayoutModel",
     "state": {
      "_model_module": "@jupyter-widgets/base",
      "_model_module_version": "1.2.0",
      "_model_name": "LayoutModel",
      "_view_count": null,
      "_view_module": "@jupyter-widgets/base",
      "_view_module_version": "1.2.0",
      "_view_name": "LayoutView",
      "align_content": null,
      "align_items": null,
      "align_self": null,
      "border": null,
      "bottom": null,
      "display": null,
      "flex": null,
      "flex_flow": null,
      "grid_area": null,
      "grid_auto_columns": null,
      "grid_auto_flow": null,
      "grid_auto_rows": null,
      "grid_column": null,
      "grid_gap": null,
      "grid_row": null,
      "grid_template_areas": null,
      "grid_template_columns": null,
      "grid_template_rows": null,
      "height": null,
      "justify_content": null,
      "justify_items": null,
      "left": null,
      "margin": null,
      "max_height": null,
      "max_width": null,
      "min_height": null,
      "min_width": null,
      "object_fit": null,
      "object_position": null,
      "order": null,
      "overflow": null,
      "overflow_x": null,
      "overflow_y": null,
      "padding": null,
      "right": null,
      "top": null,
      "visibility": null,
      "width": null
     }
    },
    "584babfae66e4259bcf82231746a0608": {
     "model_module": "@jupyter-widgets/controls",
     "model_module_version": "1.5.0",
     "model_name": "FloatProgressModel",
     "state": {
      "_dom_classes": [],
      "_model_module": "@jupyter-widgets/controls",
      "_model_module_version": "1.5.0",
      "_model_name": "FloatProgressModel",
      "_view_count": null,
      "_view_module": "@jupyter-widgets/controls",
      "_view_module_version": "1.5.0",
      "_view_name": "ProgressView",
      "bar_style": "success",
      "description": "",
      "description_tooltip": null,
      "layout": "IPY_MODEL_4d1f0e6ac20149048ee405d25e6093b7",
      "max": 1200,
      "min": 0,
      "orientation": "horizontal",
      "style": "IPY_MODEL_699ff25798eb46fe99c58861ea3bfa03",
      "value": 1200
     }
    },
    "5957301ba7cd494faf30d3422d946e29": {
     "model_module": "@jupyter-widgets/controls",
     "model_module_version": "1.5.0",
     "model_name": "DescriptionStyleModel",
     "state": {
      "_model_module": "@jupyter-widgets/controls",
      "_model_module_version": "1.5.0",
      "_model_name": "DescriptionStyleModel",
      "_view_count": null,
      "_view_module": "@jupyter-widgets/base",
      "_view_module_version": "1.2.0",
      "_view_name": "StyleView",
      "description_width": ""
     }
    },
    "5a8a3953b9664b0a9fa84e752c139f42": {
     "model_module": "@jupyter-widgets/base",
     "model_module_version": "1.2.0",
     "model_name": "LayoutModel",
     "state": {
      "_model_module": "@jupyter-widgets/base",
      "_model_module_version": "1.2.0",
      "_model_name": "LayoutModel",
      "_view_count": null,
      "_view_module": "@jupyter-widgets/base",
      "_view_module_version": "1.2.0",
      "_view_name": "LayoutView",
      "align_content": null,
      "align_items": null,
      "align_self": null,
      "border": null,
      "bottom": null,
      "display": null,
      "flex": null,
      "flex_flow": null,
      "grid_area": null,
      "grid_auto_columns": null,
      "grid_auto_flow": null,
      "grid_auto_rows": null,
      "grid_column": null,
      "grid_gap": null,
      "grid_row": null,
      "grid_template_areas": null,
      "grid_template_columns": null,
      "grid_template_rows": null,
      "height": null,
      "justify_content": null,
      "justify_items": null,
      "left": null,
      "margin": null,
      "max_height": null,
      "max_width": null,
      "min_height": null,
      "min_width": null,
      "object_fit": null,
      "object_position": null,
      "order": null,
      "overflow": null,
      "overflow_x": null,
      "overflow_y": null,
      "padding": null,
      "right": null,
      "top": null,
      "visibility": null,
      "width": null
     }
    },
    "628e234d4e7349ebb57d3440e9e7a674": {
     "model_module": "@jupyter-widgets/controls",
     "model_module_version": "1.5.0",
     "model_name": "HTMLModel",
     "state": {
      "_dom_classes": [],
      "_model_module": "@jupyter-widgets/controls",
      "_model_module_version": "1.5.0",
      "_model_name": "HTMLModel",
      "_view_count": null,
      "_view_module": "@jupyter-widgets/controls",
      "_view_module_version": "1.5.0",
      "_view_name": "HTMLView",
      "description": "",
      "description_tooltip": null,
      "layout": "IPY_MODEL_9b8e8d5495e845cf9995fe1e48cec58a",
      "placeholder": "​",
      "style": "IPY_MODEL_2a1b56db10044126a168e7382eeddd4f",
      "value": " 1200/1200 [00:00&lt;00:00, 4857.27it/s]"
     }
    },
    "699ff25798eb46fe99c58861ea3bfa03": {
     "model_module": "@jupyter-widgets/controls",
     "model_module_version": "1.5.0",
     "model_name": "ProgressStyleModel",
     "state": {
      "_model_module": "@jupyter-widgets/controls",
      "_model_module_version": "1.5.0",
      "_model_name": "ProgressStyleModel",
      "_view_count": null,
      "_view_module": "@jupyter-widgets/base",
      "_view_module_version": "1.2.0",
      "_view_name": "StyleView",
      "bar_color": null,
      "description_width": ""
     }
    },
    "69b2198fd2b742229206e6a097cd1883": {
     "model_module": "@jupyter-widgets/base",
     "model_module_version": "1.2.0",
     "model_name": "LayoutModel",
     "state": {
      "_model_module": "@jupyter-widgets/base",
      "_model_module_version": "1.2.0",
      "_model_name": "LayoutModel",
      "_view_count": null,
      "_view_module": "@jupyter-widgets/base",
      "_view_module_version": "1.2.0",
      "_view_name": "LayoutView",
      "align_content": null,
      "align_items": null,
      "align_self": null,
      "border": null,
      "bottom": null,
      "display": null,
      "flex": null,
      "flex_flow": null,
      "grid_area": null,
      "grid_auto_columns": null,
      "grid_auto_flow": null,
      "grid_auto_rows": null,
      "grid_column": null,
      "grid_gap": null,
      "grid_row": null,
      "grid_template_areas": null,
      "grid_template_columns": null,
      "grid_template_rows": null,
      "height": null,
      "justify_content": null,
      "justify_items": null,
      "left": null,
      "margin": null,
      "max_height": null,
      "max_width": null,
      "min_height": null,
      "min_width": null,
      "object_fit": null,
      "object_position": null,
      "order": null,
      "overflow": null,
      "overflow_x": null,
      "overflow_y": null,
      "padding": null,
      "right": null,
      "top": null,
      "visibility": null,
      "width": null
     }
    },
    "6c01dd8e7a59473ba3c2574b221eeeac": {
     "model_module": "@jupyter-widgets/controls",
     "model_module_version": "1.5.0",
     "model_name": "HTMLModel",
     "state": {
      "_dom_classes": [],
      "_model_module": "@jupyter-widgets/controls",
      "_model_module_version": "1.5.0",
      "_model_name": "HTMLModel",
      "_view_count": null,
      "_view_module": "@jupyter-widgets/controls",
      "_view_module_version": "1.5.0",
      "_view_name": "HTMLView",
      "description": "",
      "description_tooltip": null,
      "layout": "IPY_MODEL_04d49e59a6754e319b0df1a9de7a8020",
      "placeholder": "​",
      "style": "IPY_MODEL_1021072bf0524e6ebb8dea529b327a7f",
      "value": " 900/900 [00:02&lt;00:00, 452.69it/s]"
     }
    },
    "70b638dc958b434ea15437e02afc7869": {
     "model_module": "@jupyter-widgets/controls",
     "model_module_version": "1.5.0",
     "model_name": "DescriptionStyleModel",
     "state": {
      "_model_module": "@jupyter-widgets/controls",
      "_model_module_version": "1.5.0",
      "_model_name": "DescriptionStyleModel",
      "_view_count": null,
      "_view_module": "@jupyter-widgets/base",
      "_view_module_version": "1.2.0",
      "_view_name": "StyleView",
      "description_width": ""
     }
    },
    "710425f3a6ec41ecb7481fd1e4af4999": {
     "model_module": "@jupyter-widgets/controls",
     "model_module_version": "1.5.0",
     "model_name": "DescriptionStyleModel",
     "state": {
      "_model_module": "@jupyter-widgets/controls",
      "_model_module_version": "1.5.0",
      "_model_name": "DescriptionStyleModel",
      "_view_count": null,
      "_view_module": "@jupyter-widgets/base",
      "_view_module_version": "1.2.0",
      "_view_name": "StyleView",
      "description_width": ""
     }
    },
    "7c63433430964baca7e2a4aaff6f0aea": {
     "model_module": "@jupyter-widgets/base",
     "model_module_version": "1.2.0",
     "model_name": "LayoutModel",
     "state": {
      "_model_module": "@jupyter-widgets/base",
      "_model_module_version": "1.2.0",
      "_model_name": "LayoutModel",
      "_view_count": null,
      "_view_module": "@jupyter-widgets/base",
      "_view_module_version": "1.2.0",
      "_view_name": "LayoutView",
      "align_content": null,
      "align_items": null,
      "align_self": null,
      "border": null,
      "bottom": null,
      "display": null,
      "flex": null,
      "flex_flow": null,
      "grid_area": null,
      "grid_auto_columns": null,
      "grid_auto_flow": null,
      "grid_auto_rows": null,
      "grid_column": null,
      "grid_gap": null,
      "grid_row": null,
      "grid_template_areas": null,
      "grid_template_columns": null,
      "grid_template_rows": null,
      "height": null,
      "justify_content": null,
      "justify_items": null,
      "left": null,
      "margin": null,
      "max_height": null,
      "max_width": null,
      "min_height": null,
      "min_width": null,
      "object_fit": null,
      "object_position": null,
      "order": null,
      "overflow": null,
      "overflow_x": null,
      "overflow_y": null,
      "padding": null,
      "right": null,
      "top": null,
      "visibility": null,
      "width": null
     }
    },
    "80a5c84a53c8484e85b13d72a527060f": {
     "model_module": "@jupyter-widgets/base",
     "model_module_version": "1.2.0",
     "model_name": "LayoutModel",
     "state": {
      "_model_module": "@jupyter-widgets/base",
      "_model_module_version": "1.2.0",
      "_model_name": "LayoutModel",
      "_view_count": null,
      "_view_module": "@jupyter-widgets/base",
      "_view_module_version": "1.2.0",
      "_view_name": "LayoutView",
      "align_content": null,
      "align_items": null,
      "align_self": null,
      "border": null,
      "bottom": null,
      "display": null,
      "flex": null,
      "flex_flow": null,
      "grid_area": null,
      "grid_auto_columns": null,
      "grid_auto_flow": null,
      "grid_auto_rows": null,
      "grid_column": null,
      "grid_gap": null,
      "grid_row": null,
      "grid_template_areas": null,
      "grid_template_columns": null,
      "grid_template_rows": null,
      "height": null,
      "justify_content": null,
      "justify_items": null,
      "left": null,
      "margin": null,
      "max_height": null,
      "max_width": null,
      "min_height": null,
      "min_width": null,
      "object_fit": null,
      "object_position": null,
      "order": null,
      "overflow": null,
      "overflow_x": null,
      "overflow_y": null,
      "padding": null,
      "right": null,
      "top": null,
      "visibility": null,
      "width": null
     }
    },
    "816a3b07403e473b919c073955bbdeef": {
     "model_module": "@jupyter-widgets/controls",
     "model_module_version": "1.5.0",
     "model_name": "FloatProgressModel",
     "state": {
      "_dom_classes": [],
      "_model_module": "@jupyter-widgets/controls",
      "_model_module_version": "1.5.0",
      "_model_name": "FloatProgressModel",
      "_view_count": null,
      "_view_module": "@jupyter-widgets/controls",
      "_view_module_version": "1.5.0",
      "_view_name": "ProgressView",
      "bar_style": "success",
      "description": "",
      "description_tooltip": null,
      "layout": "IPY_MODEL_efe37963793f40238660bd927eda4b90",
      "max": 1200,
      "min": 0,
      "orientation": "horizontal",
      "style": "IPY_MODEL_d6ac7ea5a9be4465aa655a1a67f4457a",
      "value": 1200
     }
    },
    "8e80597d80034355b6da9b0e036126dd": {
     "model_module": "@jupyter-widgets/controls",
     "model_module_version": "1.5.0",
     "model_name": "HBoxModel",
     "state": {
      "_dom_classes": [],
      "_model_module": "@jupyter-widgets/controls",
      "_model_module_version": "1.5.0",
      "_model_name": "HBoxModel",
      "_view_count": null,
      "_view_module": "@jupyter-widgets/controls",
      "_view_module_version": "1.5.0",
      "_view_name": "HBoxView",
      "box_style": "",
      "children": [
       "IPY_MODEL_d749464549bf4eeebd4b9f7278e01692",
       "IPY_MODEL_da361060014545f6b781e20d85ad4b10",
       "IPY_MODEL_438b24ea41eb41b8acb92fdd7de0a81c"
      ],
      "layout": "IPY_MODEL_e1b03c61f2d64e569a23f70ef0dc7a88"
     }
    },
    "959dc1bcbb764431af085fbc97781abb": {
     "model_module": "@jupyter-widgets/base",
     "model_module_version": "1.2.0",
     "model_name": "LayoutModel",
     "state": {
      "_model_module": "@jupyter-widgets/base",
      "_model_module_version": "1.2.0",
      "_model_name": "LayoutModel",
      "_view_count": null,
      "_view_module": "@jupyter-widgets/base",
      "_view_module_version": "1.2.0",
      "_view_name": "LayoutView",
      "align_content": null,
      "align_items": null,
      "align_self": null,
      "border": null,
      "bottom": null,
      "display": null,
      "flex": null,
      "flex_flow": null,
      "grid_area": null,
      "grid_auto_columns": null,
      "grid_auto_flow": null,
      "grid_auto_rows": null,
      "grid_column": null,
      "grid_gap": null,
      "grid_row": null,
      "grid_template_areas": null,
      "grid_template_columns": null,
      "grid_template_rows": null,
      "height": null,
      "justify_content": null,
      "justify_items": null,
      "left": null,
      "margin": null,
      "max_height": null,
      "max_width": null,
      "min_height": null,
      "min_width": null,
      "object_fit": null,
      "object_position": null,
      "order": null,
      "overflow": null,
      "overflow_x": null,
      "overflow_y": null,
      "padding": null,
      "right": null,
      "top": null,
      "visibility": null,
      "width": null
     }
    },
    "9911ee62e3df404eaa4e3406daa2291f": {
     "model_module": "@jupyter-widgets/controls",
     "model_module_version": "1.5.0",
     "model_name": "HTMLModel",
     "state": {
      "_dom_classes": [],
      "_model_module": "@jupyter-widgets/controls",
      "_model_module_version": "1.5.0",
      "_model_name": "HTMLModel",
      "_view_count": null,
      "_view_module": "@jupyter-widgets/controls",
      "_view_module_version": "1.5.0",
      "_view_name": "HTMLView",
      "description": "",
      "description_tooltip": null,
      "layout": "IPY_MODEL_80a5c84a53c8484e85b13d72a527060f",
      "placeholder": "​",
      "style": "IPY_MODEL_70b638dc958b434ea15437e02afc7869",
      "value": "Average number of neighbors computation: 100%"
     }
    },
    "9b8e8d5495e845cf9995fe1e48cec58a": {
     "model_module": "@jupyter-widgets/base",
     "model_module_version": "1.2.0",
     "model_name": "LayoutModel",
     "state": {
      "_model_module": "@jupyter-widgets/base",
      "_model_module_version": "1.2.0",
      "_model_name": "LayoutModel",
      "_view_count": null,
      "_view_module": "@jupyter-widgets/base",
      "_view_module_version": "1.2.0",
      "_view_name": "LayoutView",
      "align_content": null,
      "align_items": null,
      "align_self": null,
      "border": null,
      "bottom": null,
      "display": null,
      "flex": null,
      "flex_flow": null,
      "grid_area": null,
      "grid_auto_columns": null,
      "grid_auto_flow": null,
      "grid_auto_rows": null,
      "grid_column": null,
      "grid_gap": null,
      "grid_row": null,
      "grid_template_areas": null,
      "grid_template_columns": null,
      "grid_template_rows": null,
      "height": null,
      "justify_content": null,
      "justify_items": null,
      "left": null,
      "margin": null,
      "max_height": null,
      "max_width": null,
      "min_height": null,
      "min_width": null,
      "object_fit": null,
      "object_position": null,
      "order": null,
      "overflow": null,
      "overflow_x": null,
      "overflow_y": null,
      "padding": null,
      "right": null,
      "top": null,
      "visibility": null,
      "width": null
     }
    },
    "9fc0f86d42eb495084936c109330ca11": {
     "model_module": "@jupyter-widgets/base",
     "model_module_version": "1.2.0",
     "model_name": "LayoutModel",
     "state": {
      "_model_module": "@jupyter-widgets/base",
      "_model_module_version": "1.2.0",
      "_model_name": "LayoutModel",
      "_view_count": null,
      "_view_module": "@jupyter-widgets/base",
      "_view_module_version": "1.2.0",
      "_view_name": "LayoutView",
      "align_content": null,
      "align_items": null,
      "align_self": null,
      "border": null,
      "bottom": null,
      "display": null,
      "flex": null,
      "flex_flow": null,
      "grid_area": null,
      "grid_auto_columns": null,
      "grid_auto_flow": null,
      "grid_auto_rows": null,
      "grid_column": null,
      "grid_gap": null,
      "grid_row": null,
      "grid_template_areas": null,
      "grid_template_columns": null,
      "grid_template_rows": null,
      "height": null,
      "justify_content": null,
      "justify_items": null,
      "left": null,
      "margin": null,
      "max_height": null,
      "max_width": null,
      "min_height": null,
      "min_width": null,
      "object_fit": null,
      "object_position": null,
      "order": null,
      "overflow": null,
      "overflow_x": null,
      "overflow_y": null,
      "padding": null,
      "right": null,
      "top": null,
      "visibility": null,
      "width": null
     }
    },
    "a00dfb2718074bcaaeb46b8a0b54a270": {
     "model_module": "@jupyter-widgets/base",
     "model_module_version": "1.2.0",
     "model_name": "LayoutModel",
     "state": {
      "_model_module": "@jupyter-widgets/base",
      "_model_module_version": "1.2.0",
      "_model_name": "LayoutModel",
      "_view_count": null,
      "_view_module": "@jupyter-widgets/base",
      "_view_module_version": "1.2.0",
      "_view_name": "LayoutView",
      "align_content": null,
      "align_items": null,
      "align_self": null,
      "border": null,
      "bottom": null,
      "display": null,
      "flex": null,
      "flex_flow": null,
      "grid_area": null,
      "grid_auto_columns": null,
      "grid_auto_flow": null,
      "grid_auto_rows": null,
      "grid_column": null,
      "grid_gap": null,
      "grid_row": null,
      "grid_template_areas": null,
      "grid_template_columns": null,
      "grid_template_rows": null,
      "height": null,
      "justify_content": null,
      "justify_items": null,
      "left": null,
      "margin": null,
      "max_height": null,
      "max_width": null,
      "min_height": null,
      "min_width": null,
      "object_fit": null,
      "object_position": null,
      "order": null,
      "overflow": null,
      "overflow_x": null,
      "overflow_y": null,
      "padding": null,
      "right": null,
      "top": null,
      "visibility": null,
      "width": null
     }
    },
    "a0d3fb6835c641259310270b83b78f68": {
     "model_module": "@jupyter-widgets/base",
     "model_module_version": "1.2.0",
     "model_name": "LayoutModel",
     "state": {
      "_model_module": "@jupyter-widgets/base",
      "_model_module_version": "1.2.0",
      "_model_name": "LayoutModel",
      "_view_count": null,
      "_view_module": "@jupyter-widgets/base",
      "_view_module_version": "1.2.0",
      "_view_name": "LayoutView",
      "align_content": null,
      "align_items": null,
      "align_self": null,
      "border": null,
      "bottom": null,
      "display": null,
      "flex": null,
      "flex_flow": null,
      "grid_area": null,
      "grid_auto_columns": null,
      "grid_auto_flow": null,
      "grid_auto_rows": null,
      "grid_column": null,
      "grid_gap": null,
      "grid_row": null,
      "grid_template_areas": null,
      "grid_template_columns": null,
      "grid_template_rows": null,
      "height": null,
      "justify_content": null,
      "justify_items": null,
      "left": null,
      "margin": null,
      "max_height": null,
      "max_width": null,
      "min_height": null,
      "min_width": null,
      "object_fit": null,
      "object_position": null,
      "order": null,
      "overflow": null,
      "overflow_x": null,
      "overflow_y": null,
      "padding": null,
      "right": null,
      "top": null,
      "visibility": null,
      "width": null
     }
    },
    "a149d27ba0f145e59c28a208a8bfca57": {
     "model_module": "@jupyter-widgets/base",
     "model_module_version": "1.2.0",
     "model_name": "LayoutModel",
     "state": {
      "_model_module": "@jupyter-widgets/base",
      "_model_module_version": "1.2.0",
      "_model_name": "LayoutModel",
      "_view_count": null,
      "_view_module": "@jupyter-widgets/base",
      "_view_module_version": "1.2.0",
      "_view_name": "LayoutView",
      "align_content": null,
      "align_items": null,
      "align_self": null,
      "border": null,
      "bottom": null,
      "display": null,
      "flex": null,
      "flex_flow": null,
      "grid_area": null,
      "grid_auto_columns": null,
      "grid_auto_flow": null,
      "grid_auto_rows": null,
      "grid_column": null,
      "grid_gap": null,
      "grid_row": null,
      "grid_template_areas": null,
      "grid_template_columns": null,
      "grid_template_rows": null,
      "height": null,
      "justify_content": null,
      "justify_items": null,
      "left": null,
      "margin": null,
      "max_height": null,
      "max_width": null,
      "min_height": null,
      "min_width": null,
      "object_fit": null,
      "object_position": null,
      "order": null,
      "overflow": null,
      "overflow_x": null,
      "overflow_y": null,
      "padding": null,
      "right": null,
      "top": null,
      "visibility": null,
      "width": null
     }
    },
    "a64b1c53889545099331e9e8d6cfd539": {
     "model_module": "@jupyter-widgets/controls",
     "model_module_version": "1.5.0",
     "model_name": "DescriptionStyleModel",
     "state": {
      "_model_module": "@jupyter-widgets/controls",
      "_model_module_version": "1.5.0",
      "_model_name": "DescriptionStyleModel",
      "_view_count": null,
      "_view_module": "@jupyter-widgets/base",
      "_view_module_version": "1.2.0",
      "_view_name": "StyleView",
      "description_width": ""
     }
    },
    "a9a8b117e2e54667b26d1e9f4ce960b2": {
     "model_module": "@jupyter-widgets/controls",
     "model_module_version": "1.5.0",
     "model_name": "DescriptionStyleModel",
     "state": {
      "_model_module": "@jupyter-widgets/controls",
      "_model_module_version": "1.5.0",
      "_model_name": "DescriptionStyleModel",
      "_view_count": null,
      "_view_module": "@jupyter-widgets/base",
      "_view_module_version": "1.2.0",
      "_view_name": "StyleView",
      "description_width": ""
     }
    },
    "b54de2a048414211b1d4c3f9f5b47e06": {
     "model_module": "@jupyter-widgets/controls",
     "model_module_version": "1.5.0",
     "model_name": "DescriptionStyleModel",
     "state": {
      "_model_module": "@jupyter-widgets/controls",
      "_model_module_version": "1.5.0",
      "_model_name": "DescriptionStyleModel",
      "_view_count": null,
      "_view_module": "@jupyter-widgets/base",
      "_view_module_version": "1.2.0",
      "_view_name": "StyleView",
      "description_width": ""
     }
    },
    "c624b373c4a941518574480ae6c7623e": {
     "model_module": "@jupyter-widgets/controls",
     "model_module_version": "1.5.0",
     "model_name": "HBoxModel",
     "state": {
      "_dom_classes": [],
      "_model_module": "@jupyter-widgets/controls",
      "_model_module_version": "1.5.0",
      "_model_name": "HBoxModel",
      "_view_count": null,
      "_view_module": "@jupyter-widgets/controls",
      "_view_module_version": "1.5.0",
      "_view_name": "HBoxView",
      "box_style": "",
      "children": [
       "IPY_MODEL_3315911e6ef248eb80e24e9c30bfc853",
       "IPY_MODEL_e61e137df1e14cdf815b3ab2a30224ab",
       "IPY_MODEL_6c01dd8e7a59473ba3c2574b221eeeac"
      ],
      "layout": "IPY_MODEL_959dc1bcbb764431af085fbc97781abb"
     }
    },
    "c7f095045396431d9af3ddcf326a8f18": {
     "model_module": "@jupyter-widgets/base",
     "model_module_version": "1.2.0",
     "model_name": "LayoutModel",
     "state": {
      "_model_module": "@jupyter-widgets/base",
      "_model_module_version": "1.2.0",
      "_model_name": "LayoutModel",
      "_view_count": null,
      "_view_module": "@jupyter-widgets/base",
      "_view_module_version": "1.2.0",
      "_view_name": "LayoutView",
      "align_content": null,
      "align_items": null,
      "align_self": null,
      "border": null,
      "bottom": null,
      "display": null,
      "flex": null,
      "flex_flow": null,
      "grid_area": null,
      "grid_auto_columns": null,
      "grid_auto_flow": null,
      "grid_auto_rows": null,
      "grid_column": null,
      "grid_gap": null,
      "grid_row": null,
      "grid_template_areas": null,
      "grid_template_columns": null,
      "grid_template_rows": null,
      "height": null,
      "justify_content": null,
      "justify_items": null,
      "left": null,
      "margin": null,
      "max_height": null,
      "max_width": null,
      "min_height": null,
      "min_width": null,
      "object_fit": null,
      "object_position": null,
      "order": null,
      "overflow": null,
      "overflow_x": null,
      "overflow_y": null,
      "padding": null,
      "right": null,
      "top": null,
      "visibility": null,
      "width": null
     }
    },
    "d6ac7ea5a9be4465aa655a1a67f4457a": {
     "model_module": "@jupyter-widgets/controls",
     "model_module_version": "1.5.0",
     "model_name": "ProgressStyleModel",
     "state": {
      "_model_module": "@jupyter-widgets/controls",
      "_model_module_version": "1.5.0",
      "_model_name": "ProgressStyleModel",
      "_view_count": null,
      "_view_module": "@jupyter-widgets/base",
      "_view_module_version": "1.2.0",
      "_view_name": "StyleView",
      "bar_color": null,
      "description_width": ""
     }
    },
    "d749464549bf4eeebd4b9f7278e01692": {
     "model_module": "@jupyter-widgets/controls",
     "model_module_version": "1.5.0",
     "model_name": "HTMLModel",
     "state": {
      "_dom_classes": [],
      "_model_module": "@jupyter-widgets/controls",
      "_model_module_version": "1.5.0",
      "_model_name": "HTMLModel",
      "_view_count": null,
      "_view_module": "@jupyter-widgets/controls",
      "_view_module_version": "1.5.0",
      "_view_name": "HTMLView",
      "description": "",
      "description_tooltip": null,
      "layout": "IPY_MODEL_a00dfb2718074bcaaeb46b8a0b54a270",
      "placeholder": "​",
      "style": "IPY_MODEL_a9a8b117e2e54667b26d1e9f4ce960b2",
      "value": "test graph creation: 100%"
     }
    },
    "da361060014545f6b781e20d85ad4b10": {
     "model_module": "@jupyter-widgets/controls",
     "model_module_version": "1.5.0",
     "model_name": "FloatProgressModel",
     "state": {
      "_dom_classes": [],
      "_model_module": "@jupyter-widgets/controls",
      "_model_module_version": "1.5.0",
      "_model_name": "FloatProgressModel",
      "_view_count": null,
      "_view_module": "@jupyter-widgets/controls",
      "_view_module_version": "1.5.0",
      "_view_name": "ProgressView",
      "bar_style": "success",
      "description": "",
      "description_tooltip": null,
      "layout": "IPY_MODEL_5a8a3953b9664b0a9fa84e752c139f42",
      "max": 900,
      "min": 0,
      "orientation": "horizontal",
      "style": "IPY_MODEL_03c4d6372e5444a98f023e77b3776607",
      "value": 900
     }
    },
    "e1b03c61f2d64e569a23f70ef0dc7a88": {
     "model_module": "@jupyter-widgets/base",
     "model_module_version": "1.2.0",
     "model_name": "LayoutModel",
     "state": {
      "_model_module": "@jupyter-widgets/base",
      "_model_module_version": "1.2.0",
      "_model_name": "LayoutModel",
      "_view_count": null,
      "_view_module": "@jupyter-widgets/base",
      "_view_module_version": "1.2.0",
      "_view_name": "LayoutView",
      "align_content": null,
      "align_items": null,
      "align_self": null,
      "border": null,
      "bottom": null,
      "display": null,
      "flex": null,
      "flex_flow": null,
      "grid_area": null,
      "grid_auto_columns": null,
      "grid_auto_flow": null,
      "grid_auto_rows": null,
      "grid_column": null,
      "grid_gap": null,
      "grid_row": null,
      "grid_template_areas": null,
      "grid_template_columns": null,
      "grid_template_rows": null,
      "height": null,
      "justify_content": null,
      "justify_items": null,
      "left": null,
      "margin": null,
      "max_height": null,
      "max_width": null,
      "min_height": null,
      "min_width": null,
      "object_fit": null,
      "object_position": null,
      "order": null,
      "overflow": null,
      "overflow_x": null,
      "overflow_y": null,
      "padding": null,
      "right": null,
      "top": null,
      "visibility": null,
      "width": null
     }
    },
    "e61e137df1e14cdf815b3ab2a30224ab": {
     "model_module": "@jupyter-widgets/controls",
     "model_module_version": "1.5.0",
     "model_name": "FloatProgressModel",
     "state": {
      "_dom_classes": [],
      "_model_module": "@jupyter-widgets/controls",
      "_model_module_version": "1.5.0",
      "_model_name": "FloatProgressModel",
      "_view_count": null,
      "_view_module": "@jupyter-widgets/controls",
      "_view_module_version": "1.5.0",
      "_view_name": "ProgressView",
      "bar_style": "success",
      "description": "",
      "description_tooltip": null,
      "layout": "IPY_MODEL_9fc0f86d42eb495084936c109330ca11",
      "max": 900,
      "min": 0,
      "orientation": "horizontal",
      "style": "IPY_MODEL_33c71b1a985a48ed99b5765072dbe458",
      "value": 900
     }
    },
    "efe37963793f40238660bd927eda4b90": {
     "model_module": "@jupyter-widgets/base",
     "model_module_version": "1.2.0",
     "model_name": "LayoutModel",
     "state": {
      "_model_module": "@jupyter-widgets/base",
      "_model_module_version": "1.2.0",
      "_model_name": "LayoutModel",
      "_view_count": null,
      "_view_module": "@jupyter-widgets/base",
      "_view_module_version": "1.2.0",
      "_view_name": "LayoutView",
      "align_content": null,
      "align_items": null,
      "align_self": null,
      "border": null,
      "bottom": null,
      "display": null,
      "flex": null,
      "flex_flow": null,
      "grid_area": null,
      "grid_auto_columns": null,
      "grid_auto_flow": null,
      "grid_auto_rows": null,
      "grid_column": null,
      "grid_gap": null,
      "grid_row": null,
      "grid_template_areas": null,
      "grid_template_columns": null,
      "grid_template_rows": null,
      "height": null,
      "justify_content": null,
      "justify_items": null,
      "left": null,
      "margin": null,
      "max_height": null,
      "max_width": null,
      "min_height": null,
      "min_width": null,
      "object_fit": null,
      "object_position": null,
      "order": null,
      "overflow": null,
      "overflow_x": null,
      "overflow_y": null,
      "padding": null,
      "right": null,
      "top": null,
      "visibility": null,
      "width": null
     }
    }
   }
  }
 },
 "nbformat": 4,
 "nbformat_minor": 4
}
