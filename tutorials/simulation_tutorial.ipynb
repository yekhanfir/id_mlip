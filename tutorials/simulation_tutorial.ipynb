{
 "cells": [
  {
   "cell_type": "markdown",
   "id": "558256a5",
   "metadata": {
    "id": "558256a5"
   },
   "source": [
    "# MLIP example: Running inference and simulations with MLIP"
   ]
  },
  {
   "cell_type": "markdown",
   "id": "aa9fd495",
   "metadata": {
    "id": "aa9fd495"
   },
   "source": [
    "In this notebook, we present general considerations on how to **run MD with pre-trained MLIP models** and what to expect from the performance of models. It is designed to help non-Machine Learning users to quickly learn to use MLIP models and integrate them into their workflow.\n",
    "\n",
    "For more advanced use of our library, we have prepared two subsequent tutorials: (1) How to train MLIP models from scratch, and (2) how to build new models and tools to extend the *mlip* library.\n",
    "\n",
    "**This notebook aims at showcasing:**\n",
    "- **How to load a pre-trained model** from [Hugging Face](https://huggingface.co/collections/InstaDeepAI/ml-interatomic-potentials-68134208c01a954ede6dae42) or from a locally saved zip file\n",
    "- **How to run inference** on a batch of systems using an MLIP model\n",
    "- **How to create a simulation engine**, using either Jax-MD or ASE, with a force field based on a pre-trained MLIP model\n",
    "- **How to run the simulation**, save, and access the results\n",
    "- **How to select the appropriate model** for your simulation based on our existing pre-trained models.\n",
    "- **What to expect from MLIP models**, in terms of runtime, and accuracy, based on our experiments."
   ]
  },
  {
   "cell_type": "markdown",
   "id": "280bb17c",
   "metadata": {
    "id": "280bb17c"
   },
   "source": [
    "**Install and logging setup**"
   ]
  },
  {
   "cell_type": "markdown",
   "id": "4d8c0bfe",
   "metadata": {
    "id": "4d8c0bfe"
   },
   "source": [
    "In order to run this notebook, we first need to set up the appropriate environment. This requires (1) InstaDeep's *mlip* library, (2) the appropriate Jax CUDA backend to run the models on GPU, and (3) Jax-MD. ASE is installed as part of the *mlip* library. Jax-MD installation is kept separate because it has to be installed from GitHub directly.\n",
    "\n",
    "We also set up logging for displaying information about the runs, and download to the content folder all the files required for this tutorial from InstaDeep's [HuggingFace collection](https://huggingface.co/collections/InstaDeepAI/ml-interatomic-potentials-68134208c01a954ede6dae42)."
   ]
  },
  {
   "cell_type": "code",
   "execution_count": null,
   "id": "093d0600",
   "metadata": {
    "colab": {
     "base_uri": "https://localhost:8080/"
    },
    "id": "093d0600",
    "outputId": "75d5e57c-122c-46e8-b1b1-ea3d2ae6eda4",
    "scrolled": true
   },
   "outputs": [],
   "source": [
    "%pip install mlip \"jax[cuda12]==0.4.33\" huggingface_hub git+https://github.com/jax-md/jax-md.git\n",
    "\n",
    "# Use this instead for installation without GPU:\n",
    "# %pip install mlip huggingface_hub git+https://github.com/jax-md/jax-md.git"
   ]
  },
  {
   "cell_type": "code",
   "execution_count": null,
   "id": "fde39c27",
   "metadata": {
    "id": "fde39c27"
   },
   "outputs": [],
   "source": [
    "import logging\n",
    "\n",
    "logging.basicConfig(level=logging.INFO, force=True, format='%(levelname)s - %(message)s')"
   ]
  },
  {
   "cell_type": "code",
   "execution_count": null,
   "id": "dd4840e7-27a9-44c9-b294-842860c69517",
   "metadata": {
    "colab": {
     "base_uri": "https://localhost:8080/",
     "height": 313
    },
    "id": "dd4840e7-27a9-44c9-b294-842860c69517",
    "outputId": "5fb62e53-1b51-4577-d8b1-3ea0821de465"
   },
   "outputs": [],
   "source": [
    "from huggingface_hub import snapshot_download\n",
    "\n",
    "snapshot_download(repo_id=\"InstaDeepAI/MLIP-tutorials\", allow_patterns=\"simulation/*\", local_dir=\"\")"
   ]
  },
  {
   "cell_type": "markdown",
   "id": "802158bd-1275-4684-a5dc-4b9a6fb11062",
   "metadata": {},
   "source": [
    "Let's also check what device we are using:"
   ]
  },
  {
   "cell_type": "code",
   "execution_count": null,
   "id": "26cc92da-6264-43a1-ae58-473fbc204019",
   "metadata": {},
   "outputs": [],
   "source": [
    "import jax\n",
    "\n",
    "print(jax.devices())"
   ]
  },
  {
   "cell_type": "markdown",
   "id": "89b14ecb",
   "metadata": {
    "id": "89b14ecb"
   },
   "source": [
    "## 1. Loading a pre-trained MLIP model"
   ]
  },
  {
   "cell_type": "markdown",
   "id": "343a7993",
   "metadata": {
    "id": "343a7993"
   },
   "source": [
    "In this notebook, we will show the illustrative example of a simple MACE model pre-trained on aspirin. It is trained for 100 epochs on over ~1000 conformation of aspirin with energy and forces computed at DFT level.\n",
    "\n",
    "Our library is designed to store all information about a pre-trained model into a single zip file. Once the model has been downloaded (or trained on your device), we need to (1) specify the model family, (2) specify the path, and (3) load the model directly into a [`ForceField`](https://instadeepai.github.io/mlip/api_reference/models/force_field.html) object."
   ]
  },
  {
   "cell_type": "code",
   "execution_count": null,
   "id": "6ad148f5",
   "metadata": {
    "colab": {
     "base_uri": "https://localhost:8080/"
    },
    "id": "6ad148f5",
    "outputId": "6a0ee99c-321e-4bdb-f40f-c386cec9de27"
   },
   "outputs": [],
   "source": [
    "from mlip.models.model_io import load_model_from_zip\n",
    "from mlip.models import Mace # (1) we use MACE for this example.\n",
    "\n",
    "model_path = \"simulation/example_model.zip\" # (2) path to the zip file\n",
    "\n",
    "force_field = load_model_from_zip(\n",
    "    Mace, model_path\n",
    ") #(3) initialisation of the ForceField instance"
   ]
  },
  {
   "cell_type": "markdown",
   "id": "61e0e9b2",
   "metadata": {
    "id": "61e0e9b2"
   },
   "source": [
    "## 2. Run batched inference with an MLIP model"
   ]
  },
  {
   "cell_type": "markdown",
   "id": "181541ed",
   "metadata": {
    "id": "181541ed"
   },
   "source": [
    "Using the loaded MLIP model, we can run batched inference on a number of structures at once. In the example below we run inference on 16 conformations of aspirin using batches of size 8 (it will appear as three batches as the underlying *jraph* library relies on padding which creates an empty graph at the end of each batch).\n",
    "\n",
    "We first load the 16 structures:"
   ]
  },
  {
   "cell_type": "code",
   "execution_count": null,
   "id": "15977b0b-2118-4ed8-b38f-02f025de6c0d",
   "metadata": {
    "id": "15977b0b-2118-4ed8-b38f-02f025de6c0d"
   },
   "outputs": [],
   "source": [
    "from ase.io import read as ase_read\n",
    "\n",
    "batched_aspirin_files= \"simulation/aspirin_batched_example.xyz\"\n",
    "structures = ase_read(batched_aspirin_files, index=\":\")"
   ]
  },
  {
   "cell_type": "markdown",
   "id": "84344c04-03b9-4d5e-9e42-168c69bde6dc",
   "metadata": {
    "id": "84344c04-03b9-4d5e-9e42-168c69bde6dc"
   },
   "source": [
    "We can now run inference with a single pre-built function, note Jax starts by compiling all the required functions. It may appear slow at the beginning but this provides significant acceleration at scales (compilation is saved in the notebook kernel, so if you want an illustration of the speed gains, you can run the cell twice):"
   ]
  },
  {
   "cell_type": "code",
   "execution_count": null,
   "id": "118a484e",
   "metadata": {
    "colab": {
     "base_uri": "https://localhost:8080/"
    },
    "id": "118a484e",
    "outputId": "40716c82-974a-46ab-83f4-b530fe53d05e"
   },
   "outputs": [],
   "source": [
    "from mlip.inference import run_batched_inference\n",
    "\n",
    "predictions = run_batched_inference(structures, force_field, batch_size=8)"
   ]
  },
  {
   "cell_type": "markdown",
   "id": "45024653-6e07-4005-9a8a-b916de91a371",
   "metadata": {
    "id": "45024653-6e07-4005-9a8a-b916de91a371"
   },
   "source": [
    "Energy and forces for each stucture can be obtained directly from the predictions computed:"
   ]
  },
  {
   "cell_type": "code",
   "execution_count": null,
   "id": "a510e8bd-ccca-4f0d-b257-65b530ca1b36",
   "metadata": {
    "colab": {
     "base_uri": "https://localhost:8080/"
    },
    "id": "a510e8bd-ccca-4f0d-b257-65b530ca1b36",
    "outputId": "1a0b803e-9a12-4603-bdce-c52987f8dfac"
   },
   "outputs": [],
   "source": [
    "# Example: Get energy and forces for 7-th structure (indexing starts at 0)\n",
    "print(f\"Energy for structure 7:\", predictions[7].energy)\n",
    "print(f\"Forces for structure 7:\\n\", predictions[7].forces)"
   ]
  },
  {
   "cell_type": "markdown",
   "id": "52f63ad2",
   "metadata": {
    "id": "52f63ad2"
   },
   "source": [
    "## 3. Configure a simulation engine"
   ]
  },
  {
   "cell_type": "markdown",
   "id": "a3614cfa",
   "metadata": {
    "id": "a3614cfa"
   },
   "source": [
    "There are two options for setting up a simulation engine in the *mlip* library: ASE and Jax-MD. While ASE may be more familiar to most users, we recommend Jax-MD for performance as it allows running the entire simulation on GPU. As such we have written below the code for setting up a JaxMD simulation config, but have left commented out the script for ASE.\n",
    "\n",
    "For advanced options (e.g. step time, friction, temperature scheduling), you can find the relevant documention at the following links for [Jax-MD](https://instadeepai.github.io/mlip/user_guide/simulations.html#simulations-with-jax-md) and [ASE](https://instadeepai.github.io/mlip/user_guide/simulations.html#simulations-with-ase), respectively.\n",
    "\n",
    "For users with little experience using Jax, here are a couple of points to note regarding Jax-MD:\n",
    "- Jax compiles the required functions before running them. This allows Jax code to run very efficiently, but it also requires inputs to Jax functions to have static shapes which implies some compromises when running MD.\n",
    "- The approach used in JaxMD is to set a number of *episodes* in between which the code checks whether the functions need to be recompiled.\n",
    "- In the config for the `JaxMDSimulationEngine` in the *mlip* library, users can set a total number of steps for their simulations and a number of episodes which **must divide the total number of steps**.\n",
    "- In general, we find that having episode length of ~1000 steps is a good compromise for most simulations."
   ]
  },
  {
   "cell_type": "code",
   "execution_count": null,
   "id": "ec8e1524",
   "metadata": {
    "id": "ec8e1524"
   },
   "outputs": [],
   "source": [
    "from mlip.simulation.jax_md import JaxMDSimulationEngine\n",
    "\n",
    "config = JaxMDSimulationEngine.Config(\n",
    "    num_steps=500,\n",
    "    num_episodes=10, # In Jax-MD, MD results are logged to the console at each episode\n",
    "    snapshot_interval=1, # The number of steps between each saved MD for the simulation\n",
    ")"
   ]
  },
  {
   "cell_type": "code",
   "execution_count": null,
   "id": "334ea542",
   "metadata": {
    "id": "334ea542"
   },
   "outputs": [],
   "source": [
    "#Example ASE script:\n",
    "\n",
    "#from mlip.simulation.ase import ASESimulationEngine\n",
    "\n",
    "#config = ASESimulationEngine.Config(\n",
    "#    num_steps=500,\n",
    "#    log_interval=50, #Because ASE does not need episodes, we can specify the log frequency\n",
    "#    snapshot_interval=1,\n",
    "#)"
   ]
  },
  {
   "cell_type": "markdown",
   "id": "cc8ce3b3",
   "metadata": {
    "id": "cc8ce3b3"
   },
   "source": [
    "## 4. Running a simulation"
   ]
  },
  {
   "cell_type": "markdown",
   "id": "84030fc4",
   "metadata": {
    "id": "84030fc4"
   },
   "source": [
    "With the force field loaded and the MD config set-up, we are ready to run a quick simulation, in vacuum. We begin with loading a file and creating and ASE molecule object (which can be used as input by Jax-MD!). As a result, the library currently supports any file format compatible with ASE read."
   ]
  },
  {
   "cell_type": "code",
   "execution_count": null,
   "id": "ecab4aa6",
   "metadata": {
    "id": "ecab4aa6"
   },
   "outputs": [],
   "source": [
    "from ase.io import read as ase_read\n",
    "\n",
    "example_aspirin_file= \"simulation/aspirin_md_example.xyz\"\n",
    "atoms = ase_read(example_aspirin_file)"
   ]
  },
  {
   "cell_type": "markdown",
   "id": "6ac0e342",
   "metadata": {
    "id": "6ac0e342"
   },
   "source": [
    "One final step before running the simulation: we need to initialise the engine, with the force field, config and input system previously created. Initialisation is nearly identical for Jax-MD and ASE:"
   ]
  },
  {
   "cell_type": "code",
   "execution_count": null,
   "id": "c7d62bed",
   "metadata": {
    "colab": {
     "base_uri": "https://localhost:8080/"
    },
    "id": "c7d62bed",
    "outputId": "412e4438-d467-4399-a7d2-327a50d4194d"
   },
   "outputs": [],
   "source": [
    "md_engine = JaxMDSimulationEngine(atoms, force_field, config)\n",
    "\n",
    "# md_engine = ASESimulationEngine(atoms, force_field, config)"
   ]
  },
  {
   "cell_type": "markdown",
   "id": "0b754246",
   "metadata": {
    "id": "0b754246"
   },
   "source": [
    "We can now run the simulation with one simple line. When using Jax-MD it may appear that the simulation is slow to start, that is because, as mentioned before Jax optimally compiles all the required functions. That time however is rapidly caught up as the full-GPU based simulations runs significantly faster than with ASE."
   ]
  },
  {
   "cell_type": "code",
   "execution_count": null,
   "id": "39c42b49-aa61-431c-9776-a09fb4acb34b",
   "metadata": {
    "colab": {
     "base_uri": "https://localhost:8080/"
    },
    "id": "39c42b49-aa61-431c-9776-a09fb4acb34b",
    "outputId": "f4743f9d-37c1-4d8f-c5ad-b09efc7ebb93"
   },
   "outputs": [],
   "source": [
    "md_engine.run()"
   ]
  },
  {
   "cell_type": "markdown",
   "id": "ce168259",
   "metadata": {
    "id": "ce168259"
   },
   "source": [
    "## 5. Visualise the simulation"
   ]
  },
  {
   "cell_type": "markdown",
   "id": "647fbafe",
   "metadata": {
    "id": "647fbafe"
   },
   "source": [
    "There are no visualisation tools included as part of the *mlip* library, however we provided a simple function below to run the visualisation in a notebook.  "
   ]
  },
  {
   "cell_type": "code",
   "execution_count": null,
   "id": "AXpICYQtQ520",
   "metadata": {
    "colab": {
     "base_uri": "https://localhost:8080/"
    },
    "id": "AXpICYQtQ520",
    "outputId": "32ee81ae-19f7-43bd-9ba7-3ea00b9d2030"
   },
   "outputs": [],
   "source": [
    "%%capture log\n",
    "\n",
    "!pip install py3Dmol rdkit rdkit2ase"
   ]
  },
  {
   "cell_type": "code",
   "execution_count": null,
   "id": "2c47ac8c-1282-47a6-b214-c70e5024afc2",
   "metadata": {
    "colab": {
     "base_uri": "https://localhost:8080/"
    },
    "id": "2c47ac8c-1282-47a6-b214-c70e5024afc2",
    "outputId": "c5a1f325-d445-4780-c8f0-c097387e6de3"
   },
   "outputs": [],
   "source": [
    "import py3Dmol\n",
    "from rdkit import Chem\n",
    "from rdkit2ase import ase2rdkit\n",
    "from rdkit.Geometry import Point3D\n",
    "import numpy as np\n",
    "\n",
    "def update_rdkitpositions(mol,xyz) :\n",
    "    conf = mol.GetConformer()\n",
    "    for i in range(mol.GetNumAtoms()):\n",
    "\n",
    "        x,y,z = np.array(xyz[i] ).astype(np.double)\n",
    "        conf.SetAtomPosition(i,Point3D(x,y,z))\n",
    "\n",
    "    return mol\n",
    "\n",
    "\n",
    "def MolTo3DView(mol, positions , size=(300, 300), style=\"stick\", surface=False, opacity=0.5):\n",
    "    \"\"\"Draw molecule in 3D\n",
    "\n",
    "    Args:\n",
    "    ----\n",
    "        mol: rdMol, molecule to show\n",
    "        size: tuple(int, int), canvas size\n",
    "        style: str, type of drawing molecule\n",
    "               style can be 'line', 'stick', 'sphere', 'carton'\n",
    "        surface, bool, display SAS\n",
    "        opacity, float, opacity of surface, range 0.0-1.0\n",
    "    Return:\n",
    "    ----\n",
    "        viewer: py3Dmol.view, a class for constructing embedded 3Dmol.js views in ipython notebooks.\n",
    "    \"\"\"\n",
    "    assert style in ('line', 'stick', 'sphere', 'carton')\n",
    "    mblock = Chem.MolToMolBlock(mol)\n",
    "    viewer = py3Dmol.view(width=size[0], height=size[1])\n",
    "\n",
    "    models = \"\"\n",
    "    for xyz in  positions :\n",
    "        mol = update_rdkitpositions(mol , xyz)\n",
    "        mblock = Chem.MolToPDBBlock(mol)\n",
    "        models += mblock\n",
    "    viewer.addModelsAsFrames(models, 'pdb')\n",
    "\n",
    "    viewer.setStyle({style:{}})\n",
    "    if surface:\n",
    "        viewer.addSurface(py3Dmol.SAS, {'opacity': opacity})\n",
    "\n",
    "    viewer.zoomTo()\n",
    "    viewer.setStyle({'stick': {}})\n",
    "    viewer.zoomTo()\n",
    "    viewer.animate({'loop': 'forward'})\n",
    "\n",
    "\n",
    "    return viewer"
   ]
  },
  {
   "cell_type": "markdown",
   "id": "08bea4b6",
   "metadata": {
    "id": "08bea4b6"
   },
   "source": [
    "The MD frames are stored in the *state* property of the MD engine used for the simulation. It can be accessed as follows and includes atomic positions for each frames:"
   ]
  },
  {
   "cell_type": "code",
   "execution_count": null,
   "id": "00d51677-4992-42eb-85f5-775fd3d4652e",
   "metadata": {
    "id": "00d51677-4992-42eb-85f5-775fd3d4652e"
   },
   "outputs": [],
   "source": [
    "md_state_aspirin = md_engine.state"
   ]
  },
  {
   "cell_type": "code",
   "execution_count": null,
   "id": "fd9da447-29b9-4edf-a086-ad31e1029e59",
   "metadata": {
    "colab": {
     "base_uri": "https://localhost:8080/",
     "height": 317
    },
    "id": "fd9da447-29b9-4edf-a086-ad31e1029e59",
    "outputId": "e8942810-4991-4edb-93ba-5db34e172ef0"
   },
   "outputs": [],
   "source": [
    "rdkit_object =ase2rdkit( atoms)\n",
    "viewer = MolTo3DView(rdkit_object, positions =  md_state_aspirin.positions)\n",
    "viewer.show()"
   ]
  },
  {
   "cell_type": "markdown",
   "id": "eb52115a",
   "metadata": {
    "id": "eb52115a"
   },
   "source": [
    "## 6. Points to consider when running MD with MLIP models"
   ]
  },
  {
   "cell_type": "markdown",
   "id": "941d1b94",
   "metadata": {
    "id": "941d1b94"
   },
   "source": [
    "MLIP models thrive at approaching DFT accuracy in simulations orders of magnitude faster than DFT. Due to the fact that they are machine learned functions, different MLIP models will have different speed / accuracy trade-offs. Therefore when chosing a model, users should be mindful of their objectives: smaller models will be faster, but oftentimes less accurate.\n",
    "\n",
    "Another key considerations with MLIP models is that they can be specialised. The issue of course being that models trained to be specialised may have worse performance on general tasks. Related to this point: MLIP models are trained on a subset of the periodic table and therefore can only be run on systems that have the atomic species included in the training set.\n",
    "\n",
    "As a simplistic illustration of using the wrong MLIP model the following example uses the MLIP model trained on aspirin to run a simulation on 3BPA - which has the same atomic species, but different structures. We can see that the model trained on aspirin only is not able to run a suitable simulation on 3BPA."
   ]
  },
  {
   "cell_type": "code",
   "execution_count": null,
   "id": "7ae8b333",
   "metadata": {
    "colab": {
     "base_uri": "https://localhost:8080/"
    },
    "id": "7ae8b333",
    "outputId": "013d227d-36f9-415a-b17f-5037a4ce68e8"
   },
   "outputs": [],
   "source": [
    "example_3bpa_file = \"simulation/3bpa_md_example.xyz\"\n",
    "atoms_3bpa = ase_read(example_3bpa_file)\n",
    "md_engine = JaxMDSimulationEngine(atoms_3bpa, force_field, config)\n",
    "# md_engine = ASESimulationEngine(atoms_3bpa, force_field, config)\n",
    "md_engine.run()"
   ]
  },
  {
   "cell_type": "code",
   "execution_count": null,
   "id": "ee68094b",
   "metadata": {
    "colab": {
     "base_uri": "https://localhost:8080/",
     "height": 317
    },
    "id": "ee68094b",
    "outputId": "26b65285-779e-4f27-bc82-34f7261edf01"
   },
   "outputs": [],
   "source": [
    "rdkit_3bpa =ase2rdkit(atoms_3bpa)\n",
    "md_state = md_engine.state\n",
    "viewer = MolTo3DView(rdkit_3bpa, positions =  md_state.positions)\n",
    "viewer.show()"
   ]
  },
  {
   "cell_type": "markdown",
   "id": "bca88c33",
   "metadata": {
    "id": "bca88c33"
   },
   "source": [
    "## 7. Using pre-trained models for simulation (requires GPU set-up)"
   ]
  },
  {
   "cell_type": "markdown",
   "id": "93533bc6",
   "metadata": {
    "id": "93533bc6"
   },
   "source": [
    "The pre-trained models provided with the *mlip* library are designed to be generally applied to bio-chemical systems and inlcude the following 15 atomic species: ($\\mathrm{B}$, $\\mathrm{Br}$, $\\mathrm{C}$, $\\mathrm{Cl}$, $\\mathrm{F}$, $\\mathrm{H}$, $\\mathrm{I}$, $\\mathrm{K}$, $\\mathrm{Li}$, $\\mathrm{N}$, $\\mathrm{Na}$, $\\mathrm{O}$, $\\mathrm{P}$, $\\mathrm{S}$, $\\mathrm{Si}$).\n",
    "\n",
    "For an example of expected runtimes on the different pre-trained models, on various hardware and on various system sizes, we recommend that you read the relevant sections of the associated white paper.\n",
    "\n",
    "Below we run a cells which loads a ViSNet fondation model (though users can easily load either MACE or NequIP using the code that is commented out) and runs it for 1000 steps of Chignolin. We strongly recommend using a GPU / Jax-MD backend for this part of the tutorial.\n",
    "\n",
    "As previously described, **the process is**: \n",
    "- Download the pre-trained model from HuggingFace\n",
    "- Initialise the force fields\n",
    "- Configure the MD engine\n",
    "- Initialise the engine with an input structure\n",
    "- Run the simulation\n",
    "\n",
    "#### 1. Downloading the model"
   ]
  },
  {
   "cell_type": "code",
   "execution_count": null,
   "id": "8dd55be9",
   "metadata": {
    "id": "8dd55be9"
   },
   "outputs": [],
   "source": [
    "from huggingface_hub import hf_hub_download\n",
    "\n",
    "hf_hub_download(repo_id=\"InstaDeepAI/visnet-organics\", filename=\"visnet_organics_01.zip\", local_dir=\"pretrained_models/\")\n",
    "# hf_hub_download(repo_id=\"InstaDeepAI/mace-organics\", filename=\"mace_organics_01.zip\", local_dir=\"pretrained_models/\")\n",
    "# hf_hub_download(repo_id=\"InstaDeepAI/nequip-organics\", filename=\"nequip_organics_01.zip\", local_dir=\"pretrained_models/\")"
   ]
  },
  {
   "cell_type": "code",
   "execution_count": null,
   "id": "55ded957-d0ec-44ff-9483-e1c21a6900d4",
   "metadata": {},
   "outputs": [],
   "source": [
    "from mlip.models import Visnet\n",
    "\n",
    "organics_model_path = \"pretrained_models/visnet_organics_01.zip\"\n",
    "# organics_model_path = \"pretrained_models/mace_organics_01.zip\"\n",
    "# organics_model_path = \"pretrained_models/nequip_organics_01.zip\"\n",
    "\n",
    "force_field = load_model_from_zip(\n",
    "    Visnet, organics_model_path\n",
    ") "
   ]
  },
  {
   "cell_type": "code",
   "execution_count": null,
   "id": "0b99bade-4459-4aa9-89da-2746227372e7",
   "metadata": {},
   "outputs": [],
   "source": [
    "config = JaxMDSimulationEngine.Config(\n",
    "    num_steps=1000,\n",
    "    num_episodes=1, \n",
    "    snapshot_interval=1,\n",
    ")"
   ]
  },
  {
   "cell_type": "code",
   "execution_count": null,
   "id": "249bfa2a-47de-4233-8816-ef05c11fd720",
   "metadata": {},
   "outputs": [],
   "source": [
    "chignolin_file = \"simulation/chignolin_protonated.xyz\"\n",
    "atoms = ase_read(chignolin_file)"
   ]
  },
  {
   "cell_type": "code",
   "execution_count": null,
   "id": "ee529b91-a144-49b1-8057-7778914a342c",
   "metadata": {},
   "outputs": [],
   "source": [
    "md_engine = JaxMDSimulationEngine(atoms, force_field, config)"
   ]
  },
  {
   "cell_type": "markdown",
   "id": "596ca2de-ccf0-4da7-aa36-baed323ae1b1",
   "metadata": {},
   "source": [
    "Before running the next cell, beware that it may take a while to run depending on the hardware used. Following compilation, the expected runtime for a 1000 steps episode on chignolin should take ~5s on a H100, ~8s on a A100.  "
   ]
  },
  {
   "cell_type": "code",
   "execution_count": null,
   "id": "75f71d13-a355-4cd2-8f01-b1942015f4ba",
   "metadata": {},
   "outputs": [],
   "source": [
    "md_engine.run() "
   ]
  },
  {
   "cell_type": "markdown",
   "id": "9f84afaa-511d-4e16-a94b-9eef6d76a93c",
   "metadata": {},
   "source": [
    "We can visualise the results here as well, due to the size of the system however this make take a few minutes to run in jupyter. "
   ]
  },
  {
   "cell_type": "code",
   "execution_count": null,
   "id": "a1397d02-a8d8-445f-b6e2-f8d8148d1196",
   "metadata": {},
   "outputs": [],
   "source": [
    "md_state_chignolin = md_engine.state\n",
    "rdkit_object = ase2rdkit(atoms)\n",
    "viewer = MolTo3DView(rdkit_object, positions =  md_state_chignolin.positions)\n",
    "viewer.show()"
   ]
  }
 ],
 "metadata": {
  "colab": {
   "provenance": []
  },
  "kernelspec": {
   "display_name": "Python 3 (ipykernel)",
   "language": "python",
   "name": "python3"
  },
  "language_info": {
   "codemirror_mode": {
    "name": "ipython",
    "version": 3
   },
   "file_extension": ".py",
   "mimetype": "text/x-python",
   "name": "python",
   "nbconvert_exporter": "python",
   "pygments_lexer": "ipython3",
   "version": "3.10.15"
  }
 },
 "nbformat": 4,
 "nbformat_minor": 5
}
